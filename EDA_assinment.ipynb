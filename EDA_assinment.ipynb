{
  "nbformat": 4,
  "nbformat_minor": 0,
  "metadata": {
    "colab": {
      "name": "EDA assinment.ipynb",
      "provenance": [],
      "collapsed_sections": [],
      "authorship_tag": "ABX9TyP6OPAg8aNNoWf8+PzuuS0V",
      "include_colab_link": true
    },
    "kernelspec": {
      "name": "python3",
      "display_name": "Python 3"
    },
    "language_info": {
      "name": "python"
    }
  },
  "cells": [
    {
      "cell_type": "markdown",
      "metadata": {
        "id": "view-in-github",
        "colab_type": "text"
      },
      "source": [
        "<a href=\"https://colab.research.google.com/github/saima8/Burger-Bari/blob/main/EDA_assinment.ipynb\" target=\"_parent\"><img src=\"https://colab.research.google.com/assets/colab-badge.svg\" alt=\"Open In Colab\"/></a>"
      ]
    },
    {
      "cell_type": "markdown",
      "metadata": {
        "id": "hpmYwTQj_Ro5"
      },
      "source": [
        "Q1. Apply all type of EDA that had been gone throuhout the EDA class."
      ]
    },
    {
      "cell_type": "code",
      "metadata": {
        "id": "DoiDo-8U_kyI"
      },
      "source": [
        "#importing all the libraries \n",
        "import numpy as np\n",
        "import pandas as pd"
      ],
      "execution_count": null,
      "outputs": []
    },
    {
      "cell_type": "code",
      "metadata": {
        "id": "d5_hAyhN_pDu"
      },
      "source": [
        "data = pd.read_csv(\"/content/houses_to_rent.csv\")"
      ],
      "execution_count": null,
      "outputs": []
    },
    {
      "cell_type": "code",
      "metadata": {
        "colab": {
          "base_uri": "https://localhost:8080/",
          "height": 575
        },
        "id": "9RzlHkyi_1T7",
        "outputId": "3fceba62-a687-48c5-c14d-f875240e4291"
      },
      "source": [
        "data"
      ],
      "execution_count": null,
      "outputs": [
        {
          "output_type": "execute_result",
          "data": {
            "text/html": [
              "<div>\n",
              "<style scoped>\n",
              "    .dataframe tbody tr th:only-of-type {\n",
              "        vertical-align: middle;\n",
              "    }\n",
              "\n",
              "    .dataframe tbody tr th {\n",
              "        vertical-align: top;\n",
              "    }\n",
              "\n",
              "    .dataframe thead th {\n",
              "        text-align: right;\n",
              "    }\n",
              "</style>\n",
              "<table border=\"1\" class=\"dataframe\">\n",
              "  <thead>\n",
              "    <tr style=\"text-align: right;\">\n",
              "      <th></th>\n",
              "      <th>Unnamed: 0</th>\n",
              "      <th>city</th>\n",
              "      <th>area</th>\n",
              "      <th>rooms</th>\n",
              "      <th>bathroom</th>\n",
              "      <th>parking spaces</th>\n",
              "      <th>floor</th>\n",
              "      <th>animal</th>\n",
              "      <th>furniture</th>\n",
              "      <th>hoa</th>\n",
              "      <th>rent amount</th>\n",
              "      <th>property tax</th>\n",
              "      <th>fire insurance</th>\n",
              "      <th>total</th>\n",
              "    </tr>\n",
              "  </thead>\n",
              "  <tbody>\n",
              "    <tr>\n",
              "      <th>0</th>\n",
              "      <td>0</td>\n",
              "      <td>1</td>\n",
              "      <td>240</td>\n",
              "      <td>3</td>\n",
              "      <td>3</td>\n",
              "      <td>4</td>\n",
              "      <td>-</td>\n",
              "      <td>acept</td>\n",
              "      <td>furnished</td>\n",
              "      <td>R$0</td>\n",
              "      <td>R$8,000</td>\n",
              "      <td>R$1,000</td>\n",
              "      <td>R$121</td>\n",
              "      <td>R$9,121</td>\n",
              "    </tr>\n",
              "    <tr>\n",
              "      <th>1</th>\n",
              "      <td>1</td>\n",
              "      <td>0</td>\n",
              "      <td>64</td>\n",
              "      <td>2</td>\n",
              "      <td>1</td>\n",
              "      <td>1</td>\n",
              "      <td>10</td>\n",
              "      <td>acept</td>\n",
              "      <td>not furnished</td>\n",
              "      <td>R$540</td>\n",
              "      <td>R$820</td>\n",
              "      <td>R$122</td>\n",
              "      <td>R$11</td>\n",
              "      <td>R$1,493</td>\n",
              "    </tr>\n",
              "    <tr>\n",
              "      <th>2</th>\n",
              "      <td>2</td>\n",
              "      <td>1</td>\n",
              "      <td>443</td>\n",
              "      <td>5</td>\n",
              "      <td>5</td>\n",
              "      <td>4</td>\n",
              "      <td>3</td>\n",
              "      <td>acept</td>\n",
              "      <td>furnished</td>\n",
              "      <td>R$4,172</td>\n",
              "      <td>R$7,000</td>\n",
              "      <td>R$1,417</td>\n",
              "      <td>R$89</td>\n",
              "      <td>R$12,680</td>\n",
              "    </tr>\n",
              "    <tr>\n",
              "      <th>3</th>\n",
              "      <td>3</td>\n",
              "      <td>1</td>\n",
              "      <td>73</td>\n",
              "      <td>2</td>\n",
              "      <td>2</td>\n",
              "      <td>1</td>\n",
              "      <td>12</td>\n",
              "      <td>acept</td>\n",
              "      <td>not furnished</td>\n",
              "      <td>R$700</td>\n",
              "      <td>R$1,250</td>\n",
              "      <td>R$150</td>\n",
              "      <td>R$16</td>\n",
              "      <td>R$2,116</td>\n",
              "    </tr>\n",
              "    <tr>\n",
              "      <th>4</th>\n",
              "      <td>4</td>\n",
              "      <td>1</td>\n",
              "      <td>19</td>\n",
              "      <td>1</td>\n",
              "      <td>1</td>\n",
              "      <td>0</td>\n",
              "      <td>-</td>\n",
              "      <td>not acept</td>\n",
              "      <td>not furnished</td>\n",
              "      <td>R$0</td>\n",
              "      <td>R$1,200</td>\n",
              "      <td>R$41</td>\n",
              "      <td>R$16</td>\n",
              "      <td>R$1,257</td>\n",
              "    </tr>\n",
              "    <tr>\n",
              "      <th>...</th>\n",
              "      <td>...</td>\n",
              "      <td>...</td>\n",
              "      <td>...</td>\n",
              "      <td>...</td>\n",
              "      <td>...</td>\n",
              "      <td>...</td>\n",
              "      <td>...</td>\n",
              "      <td>...</td>\n",
              "      <td>...</td>\n",
              "      <td>...</td>\n",
              "      <td>...</td>\n",
              "      <td>...</td>\n",
              "      <td>...</td>\n",
              "      <td>...</td>\n",
              "    </tr>\n",
              "    <tr>\n",
              "      <th>6075</th>\n",
              "      <td>6075</td>\n",
              "      <td>1</td>\n",
              "      <td>50</td>\n",
              "      <td>2</td>\n",
              "      <td>1</td>\n",
              "      <td>1</td>\n",
              "      <td>2</td>\n",
              "      <td>acept</td>\n",
              "      <td>not furnished</td>\n",
              "      <td>R$420</td>\n",
              "      <td>R$1,150</td>\n",
              "      <td>R$0</td>\n",
              "      <td>R$15</td>\n",
              "      <td>R$1,585</td>\n",
              "    </tr>\n",
              "    <tr>\n",
              "      <th>6076</th>\n",
              "      <td>6076</td>\n",
              "      <td>1</td>\n",
              "      <td>84</td>\n",
              "      <td>2</td>\n",
              "      <td>2</td>\n",
              "      <td>1</td>\n",
              "      <td>16</td>\n",
              "      <td>not acept</td>\n",
              "      <td>furnished</td>\n",
              "      <td>R$768</td>\n",
              "      <td>R$2,900</td>\n",
              "      <td>R$63</td>\n",
              "      <td>R$37</td>\n",
              "      <td>R$3,768</td>\n",
              "    </tr>\n",
              "    <tr>\n",
              "      <th>6077</th>\n",
              "      <td>6077</td>\n",
              "      <td>0</td>\n",
              "      <td>48</td>\n",
              "      <td>1</td>\n",
              "      <td>1</td>\n",
              "      <td>0</td>\n",
              "      <td>13</td>\n",
              "      <td>acept</td>\n",
              "      <td>not furnished</td>\n",
              "      <td>R$250</td>\n",
              "      <td>R$950</td>\n",
              "      <td>R$42</td>\n",
              "      <td>R$13</td>\n",
              "      <td>R$1,255</td>\n",
              "    </tr>\n",
              "    <tr>\n",
              "      <th>6078</th>\n",
              "      <td>6078</td>\n",
              "      <td>1</td>\n",
              "      <td>160</td>\n",
              "      <td>3</td>\n",
              "      <td>2</td>\n",
              "      <td>2</td>\n",
              "      <td>-</td>\n",
              "      <td>not acept</td>\n",
              "      <td>not furnished</td>\n",
              "      <td>R$0</td>\n",
              "      <td>R$3,500</td>\n",
              "      <td>R$250</td>\n",
              "      <td>R$53</td>\n",
              "      <td>R$3,803</td>\n",
              "    </tr>\n",
              "    <tr>\n",
              "      <th>6079</th>\n",
              "      <td>6079</td>\n",
              "      <td>1</td>\n",
              "      <td>60</td>\n",
              "      <td>2</td>\n",
              "      <td>1</td>\n",
              "      <td>1</td>\n",
              "      <td>4</td>\n",
              "      <td>acept</td>\n",
              "      <td>furnished</td>\n",
              "      <td>R$489</td>\n",
              "      <td>R$1,900</td>\n",
              "      <td>R$0</td>\n",
              "      <td>R$25</td>\n",
              "      <td>R$2,414</td>\n",
              "    </tr>\n",
              "  </tbody>\n",
              "</table>\n",
              "<p>6080 rows × 14 columns</p>\n",
              "</div>"
            ],
            "text/plain": [
              "      Unnamed: 0  city  area  ...  property tax  fire insurance     total\n",
              "0              0     1   240  ...       R$1,000           R$121   R$9,121\n",
              "1              1     0    64  ...         R$122            R$11   R$1,493\n",
              "2              2     1   443  ...       R$1,417            R$89  R$12,680\n",
              "3              3     1    73  ...         R$150            R$16   R$2,116\n",
              "4              4     1    19  ...          R$41            R$16   R$1,257\n",
              "...          ...   ...   ...  ...           ...             ...       ...\n",
              "6075        6075     1    50  ...           R$0            R$15   R$1,585\n",
              "6076        6076     1    84  ...          R$63            R$37   R$3,768\n",
              "6077        6077     0    48  ...          R$42            R$13   R$1,255\n",
              "6078        6078     1   160  ...         R$250            R$53   R$3,803\n",
              "6079        6079     1    60  ...           R$0            R$25   R$2,414\n",
              "\n",
              "[6080 rows x 14 columns]"
            ]
          },
          "metadata": {
            "tags": []
          },
          "execution_count": 3
        }
      ]
    },
    {
      "cell_type": "code",
      "metadata": {
        "colab": {
          "base_uri": "https://localhost:8080/"
        },
        "id": "mI_hBTYm_54k",
        "outputId": "cf0bc7b1-24bb-4f5e-eebc-bd9f55e1f84c"
      },
      "source": [
        "data.shape#for finding the shape of dataset"
      ],
      "execution_count": null,
      "outputs": [
        {
          "output_type": "execute_result",
          "data": {
            "text/plain": [
              "(6080, 14)"
            ]
          },
          "metadata": {
            "tags": []
          },
          "execution_count": 4
        }
      ]
    },
    {
      "cell_type": "code",
      "metadata": {
        "colab": {
          "base_uri": "https://localhost:8080/"
        },
        "id": "1tWJhd5e_-9r",
        "outputId": "d3854953-79ec-42b5-e062-f61e3463a1c9"
      },
      "source": [
        "data.columns # all columns of dataset"
      ],
      "execution_count": null,
      "outputs": [
        {
          "output_type": "execute_result",
          "data": {
            "text/plain": [
              "Index(['Unnamed: 0', 'city', 'area', 'rooms', 'bathroom', 'parking spaces',\n",
              "       'floor', 'animal', 'furniture', 'hoa', 'rent amount', 'property tax',\n",
              "       'fire insurance', 'total'],\n",
              "      dtype='object')"
            ]
          },
          "metadata": {
            "tags": []
          },
          "execution_count": 5
        }
      ]
    },
    {
      "cell_type": "code",
      "metadata": {
        "colab": {
          "base_uri": "https://localhost:8080/"
        },
        "id": "YRo0PmGAADit",
        "outputId": "90a3acc5-d899-45bb-fb54-2931f0bca5f7"
      },
      "source": [
        "data.columns[[1,2]]# to see specific columns name"
      ],
      "execution_count": null,
      "outputs": [
        {
          "output_type": "execute_result",
          "data": {
            "text/plain": [
              "Index(['city', 'area'], dtype='object')"
            ]
          },
          "metadata": {
            "tags": []
          },
          "execution_count": 6
        }
      ]
    },
    {
      "cell_type": "code",
      "metadata": {
        "colab": {
          "base_uri": "https://localhost:8080/"
        },
        "id": "izxPHDJ0AIZ0",
        "outputId": "8ee02a34-1fe1-4a35-eb6a-e16a62532b3f"
      },
      "source": [
        "data.index# for finding total index number"
      ],
      "execution_count": null,
      "outputs": [
        {
          "output_type": "execute_result",
          "data": {
            "text/plain": [
              "RangeIndex(start=0, stop=6080, step=1)"
            ]
          },
          "metadata": {
            "tags": []
          },
          "execution_count": 7
        }
      ]
    },
    {
      "cell_type": "code",
      "metadata": {
        "colab": {
          "base_uri": "https://localhost:8080/"
        },
        "id": "JL7PUihYAMSG",
        "outputId": "2c257115-f6d3-42de-a5c9-603125c179e2"
      },
      "source": [
        "data.values[[2,3]]# specific rows values finding"
      ],
      "execution_count": null,
      "outputs": [
        {
          "output_type": "execute_result",
          "data": {
            "text/plain": [
              "array([[2, 1, 443, 5, 5, 4, '3', 'acept', 'furnished', 'R$4,172',\n",
              "        'R$7,000', 'R$1,417', 'R$89', 'R$12,680'],\n",
              "       [3, 1, 73, 2, 2, 1, '12', 'acept', 'not furnished', 'R$700',\n",
              "        'R$1,250', 'R$150', 'R$16', 'R$2,116']], dtype=object)"
            ]
          },
          "metadata": {
            "tags": []
          },
          "execution_count": 8
        }
      ]
    },
    {
      "cell_type": "code",
      "metadata": {
        "colab": {
          "base_uri": "https://localhost:8080/",
          "height": 162
        },
        "id": "--A9xShqARu9",
        "outputId": "aae27b2b-efff-43a3-90e1-b2c1e1874804"
      },
      "source": [
        "data.loc[[3,4]]# finding rows by firecting location"
      ],
      "execution_count": null,
      "outputs": [
        {
          "output_type": "execute_result",
          "data": {
            "text/html": [
              "<div>\n",
              "<style scoped>\n",
              "    .dataframe tbody tr th:only-of-type {\n",
              "        vertical-align: middle;\n",
              "    }\n",
              "\n",
              "    .dataframe tbody tr th {\n",
              "        vertical-align: top;\n",
              "    }\n",
              "\n",
              "    .dataframe thead th {\n",
              "        text-align: right;\n",
              "    }\n",
              "</style>\n",
              "<table border=\"1\" class=\"dataframe\">\n",
              "  <thead>\n",
              "    <tr style=\"text-align: right;\">\n",
              "      <th></th>\n",
              "      <th>Unnamed: 0</th>\n",
              "      <th>city</th>\n",
              "      <th>area</th>\n",
              "      <th>rooms</th>\n",
              "      <th>bathroom</th>\n",
              "      <th>parking spaces</th>\n",
              "      <th>floor</th>\n",
              "      <th>animal</th>\n",
              "      <th>furniture</th>\n",
              "      <th>hoa</th>\n",
              "      <th>rent amount</th>\n",
              "      <th>property tax</th>\n",
              "      <th>fire insurance</th>\n",
              "      <th>total</th>\n",
              "    </tr>\n",
              "  </thead>\n",
              "  <tbody>\n",
              "    <tr>\n",
              "      <th>3</th>\n",
              "      <td>3</td>\n",
              "      <td>1</td>\n",
              "      <td>73</td>\n",
              "      <td>2</td>\n",
              "      <td>2</td>\n",
              "      <td>1</td>\n",
              "      <td>12</td>\n",
              "      <td>acept</td>\n",
              "      <td>not furnished</td>\n",
              "      <td>R$700</td>\n",
              "      <td>R$1,250</td>\n",
              "      <td>R$150</td>\n",
              "      <td>R$16</td>\n",
              "      <td>R$2,116</td>\n",
              "    </tr>\n",
              "    <tr>\n",
              "      <th>4</th>\n",
              "      <td>4</td>\n",
              "      <td>1</td>\n",
              "      <td>19</td>\n",
              "      <td>1</td>\n",
              "      <td>1</td>\n",
              "      <td>0</td>\n",
              "      <td>-</td>\n",
              "      <td>not acept</td>\n",
              "      <td>not furnished</td>\n",
              "      <td>R$0</td>\n",
              "      <td>R$1,200</td>\n",
              "      <td>R$41</td>\n",
              "      <td>R$16</td>\n",
              "      <td>R$1,257</td>\n",
              "    </tr>\n",
              "  </tbody>\n",
              "</table>\n",
              "</div>"
            ],
            "text/plain": [
              "   Unnamed: 0  city  area  ...  property tax  fire insurance    total\n",
              "3           3     1    73  ...         R$150            R$16  R$2,116\n",
              "4           4     1    19  ...          R$41            R$16  R$1,257\n",
              "\n",
              "[2 rows x 14 columns]"
            ]
          },
          "metadata": {
            "tags": []
          },
          "execution_count": 9
        }
      ]
    },
    {
      "cell_type": "code",
      "metadata": {
        "colab": {
          "base_uri": "https://localhost:8080/",
          "height": 165
        },
        "id": "qpV1gzEYAa_0",
        "outputId": "765d82f2-2d55-4b17-d5f6-d760ddd0d4bd"
      },
      "source": [
        "data.iloc[[1,-1]]# see first and last location"
      ],
      "execution_count": null,
      "outputs": [
        {
          "output_type": "execute_result",
          "data": {
            "text/html": [
              "<div>\n",
              "<style scoped>\n",
              "    .dataframe tbody tr th:only-of-type {\n",
              "        vertical-align: middle;\n",
              "    }\n",
              "\n",
              "    .dataframe tbody tr th {\n",
              "        vertical-align: top;\n",
              "    }\n",
              "\n",
              "    .dataframe thead th {\n",
              "        text-align: right;\n",
              "    }\n",
              "</style>\n",
              "<table border=\"1\" class=\"dataframe\">\n",
              "  <thead>\n",
              "    <tr style=\"text-align: right;\">\n",
              "      <th></th>\n",
              "      <th>Unnamed: 0</th>\n",
              "      <th>city</th>\n",
              "      <th>area</th>\n",
              "      <th>rooms</th>\n",
              "      <th>bathroom</th>\n",
              "      <th>parking spaces</th>\n",
              "      <th>floor</th>\n",
              "      <th>animal</th>\n",
              "      <th>furniture</th>\n",
              "      <th>hoa</th>\n",
              "      <th>rent amount</th>\n",
              "      <th>property tax</th>\n",
              "      <th>fire insurance</th>\n",
              "      <th>total</th>\n",
              "    </tr>\n",
              "  </thead>\n",
              "  <tbody>\n",
              "    <tr>\n",
              "      <th>1</th>\n",
              "      <td>1</td>\n",
              "      <td>0</td>\n",
              "      <td>64</td>\n",
              "      <td>2</td>\n",
              "      <td>1</td>\n",
              "      <td>1</td>\n",
              "      <td>10</td>\n",
              "      <td>acept</td>\n",
              "      <td>not furnished</td>\n",
              "      <td>R$540</td>\n",
              "      <td>R$820</td>\n",
              "      <td>R$122</td>\n",
              "      <td>R$11</td>\n",
              "      <td>R$1,493</td>\n",
              "    </tr>\n",
              "    <tr>\n",
              "      <th>6079</th>\n",
              "      <td>6079</td>\n",
              "      <td>1</td>\n",
              "      <td>60</td>\n",
              "      <td>2</td>\n",
              "      <td>1</td>\n",
              "      <td>1</td>\n",
              "      <td>4</td>\n",
              "      <td>acept</td>\n",
              "      <td>furnished</td>\n",
              "      <td>R$489</td>\n",
              "      <td>R$1,900</td>\n",
              "      <td>R$0</td>\n",
              "      <td>R$25</td>\n",
              "      <td>R$2,414</td>\n",
              "    </tr>\n",
              "  </tbody>\n",
              "</table>\n",
              "</div>"
            ],
            "text/plain": [
              "      Unnamed: 0  city  area  ...  property tax  fire insurance    total\n",
              "1              1     0    64  ...         R$122            R$11  R$1,493\n",
              "6079        6079     1    60  ...           R$0            R$25  R$2,414\n",
              "\n",
              "[2 rows x 14 columns]"
            ]
          },
          "metadata": {
            "tags": []
          },
          "execution_count": 10
        }
      ]
    },
    {
      "cell_type": "code",
      "metadata": {
        "id": "LpvPqQrlAnkJ"
      },
      "source": [
        "subset=data.iloc[:,[2,3,4]]#creating a subset of dataset by taking specifing columns"
      ],
      "execution_count": null,
      "outputs": []
    },
    {
      "cell_type": "code",
      "metadata": {
        "colab": {
          "base_uri": "https://localhost:8080/",
          "height": 419
        },
        "id": "GnA8GSBZAtgg",
        "outputId": "570d25ae-e64a-4662-f3f8-1af12150e325"
      },
      "source": [
        "subset"
      ],
      "execution_count": null,
      "outputs": [
        {
          "output_type": "execute_result",
          "data": {
            "text/html": [
              "<div>\n",
              "<style scoped>\n",
              "    .dataframe tbody tr th:only-of-type {\n",
              "        vertical-align: middle;\n",
              "    }\n",
              "\n",
              "    .dataframe tbody tr th {\n",
              "        vertical-align: top;\n",
              "    }\n",
              "\n",
              "    .dataframe thead th {\n",
              "        text-align: right;\n",
              "    }\n",
              "</style>\n",
              "<table border=\"1\" class=\"dataframe\">\n",
              "  <thead>\n",
              "    <tr style=\"text-align: right;\">\n",
              "      <th></th>\n",
              "      <th>area</th>\n",
              "      <th>rooms</th>\n",
              "      <th>bathroom</th>\n",
              "    </tr>\n",
              "  </thead>\n",
              "  <tbody>\n",
              "    <tr>\n",
              "      <th>0</th>\n",
              "      <td>240</td>\n",
              "      <td>3</td>\n",
              "      <td>3</td>\n",
              "    </tr>\n",
              "    <tr>\n",
              "      <th>1</th>\n",
              "      <td>64</td>\n",
              "      <td>2</td>\n",
              "      <td>1</td>\n",
              "    </tr>\n",
              "    <tr>\n",
              "      <th>2</th>\n",
              "      <td>443</td>\n",
              "      <td>5</td>\n",
              "      <td>5</td>\n",
              "    </tr>\n",
              "    <tr>\n",
              "      <th>3</th>\n",
              "      <td>73</td>\n",
              "      <td>2</td>\n",
              "      <td>2</td>\n",
              "    </tr>\n",
              "    <tr>\n",
              "      <th>4</th>\n",
              "      <td>19</td>\n",
              "      <td>1</td>\n",
              "      <td>1</td>\n",
              "    </tr>\n",
              "    <tr>\n",
              "      <th>...</th>\n",
              "      <td>...</td>\n",
              "      <td>...</td>\n",
              "      <td>...</td>\n",
              "    </tr>\n",
              "    <tr>\n",
              "      <th>6075</th>\n",
              "      <td>50</td>\n",
              "      <td>2</td>\n",
              "      <td>1</td>\n",
              "    </tr>\n",
              "    <tr>\n",
              "      <th>6076</th>\n",
              "      <td>84</td>\n",
              "      <td>2</td>\n",
              "      <td>2</td>\n",
              "    </tr>\n",
              "    <tr>\n",
              "      <th>6077</th>\n",
              "      <td>48</td>\n",
              "      <td>1</td>\n",
              "      <td>1</td>\n",
              "    </tr>\n",
              "    <tr>\n",
              "      <th>6078</th>\n",
              "      <td>160</td>\n",
              "      <td>3</td>\n",
              "      <td>2</td>\n",
              "    </tr>\n",
              "    <tr>\n",
              "      <th>6079</th>\n",
              "      <td>60</td>\n",
              "      <td>2</td>\n",
              "      <td>1</td>\n",
              "    </tr>\n",
              "  </tbody>\n",
              "</table>\n",
              "<p>6080 rows × 3 columns</p>\n",
              "</div>"
            ],
            "text/plain": [
              "      area  rooms  bathroom\n",
              "0      240      3         3\n",
              "1       64      2         1\n",
              "2      443      5         5\n",
              "3       73      2         2\n",
              "4       19      1         1\n",
              "...    ...    ...       ...\n",
              "6075    50      2         1\n",
              "6076    84      2         2\n",
              "6077    48      1         1\n",
              "6078   160      3         2\n",
              "6079    60      2         1\n",
              "\n",
              "[6080 rows x 3 columns]"
            ]
          },
          "metadata": {
            "tags": []
          },
          "execution_count": 12
        }
      ]
    },
    {
      "cell_type": "code",
      "metadata": {
        "id": "jDYSJCGpAvGm"
      },
      "source": [
        "#creating a group  of columns for visualize specific data\n",
        "# data.loc[(data['area'] == 'Wales') & (data['vaccines'] == 'Oxford/AstraZeneca, Pfizer/BioNTech')]"
      ],
      "execution_count": null,
      "outputs": []
    },
    {
      "cell_type": "code",
      "metadata": {
        "colab": {
          "base_uri": "https://localhost:8080/"
        },
        "id": "Lba7z7tMA2_M",
        "outputId": "b88800a3-371a-4711-d06a-c13e87d1f1b6"
      },
      "source": [
        "data.info()"
      ],
      "execution_count": null,
      "outputs": [
        {
          "output_type": "stream",
          "text": [
            "<class 'pandas.core.frame.DataFrame'>\n",
            "RangeIndex: 6080 entries, 0 to 6079\n",
            "Data columns (total 14 columns):\n",
            " #   Column          Non-Null Count  Dtype \n",
            "---  ------          --------------  ----- \n",
            " 0   Unnamed: 0      6080 non-null   int64 \n",
            " 1   city            6080 non-null   int64 \n",
            " 2   area            6080 non-null   int64 \n",
            " 3   rooms           6080 non-null   int64 \n",
            " 4   bathroom        6080 non-null   int64 \n",
            " 5   parking spaces  6080 non-null   int64 \n",
            " 6   floor           6080 non-null   object\n",
            " 7   animal          6080 non-null   object\n",
            " 8   furniture       6080 non-null   object\n",
            " 9   hoa             6080 non-null   object\n",
            " 10  rent amount     6080 non-null   object\n",
            " 11  property tax    6080 non-null   object\n",
            " 12  fire insurance  6080 non-null   object\n",
            " 13  total           6080 non-null   object\n",
            "dtypes: int64(6), object(8)\n",
            "memory usage: 665.1+ KB\n"
          ],
          "name": "stdout"
        }
      ]
    },
    {
      "cell_type": "code",
      "metadata": {
        "colab": {
          "base_uri": "https://localhost:8080/",
          "height": 297
        },
        "id": "ncKQb25IBOG4",
        "outputId": "e260593d-dd6f-4b0a-e498-0c8e7ae392cc"
      },
      "source": [
        "data.describe()"
      ],
      "execution_count": null,
      "outputs": [
        {
          "output_type": "execute_result",
          "data": {
            "text/html": [
              "<div>\n",
              "<style scoped>\n",
              "    .dataframe tbody tr th:only-of-type {\n",
              "        vertical-align: middle;\n",
              "    }\n",
              "\n",
              "    .dataframe tbody tr th {\n",
              "        vertical-align: top;\n",
              "    }\n",
              "\n",
              "    .dataframe thead th {\n",
              "        text-align: right;\n",
              "    }\n",
              "</style>\n",
              "<table border=\"1\" class=\"dataframe\">\n",
              "  <thead>\n",
              "    <tr style=\"text-align: right;\">\n",
              "      <th></th>\n",
              "      <th>Unnamed: 0</th>\n",
              "      <th>city</th>\n",
              "      <th>area</th>\n",
              "      <th>rooms</th>\n",
              "      <th>bathroom</th>\n",
              "      <th>parking spaces</th>\n",
              "    </tr>\n",
              "  </thead>\n",
              "  <tbody>\n",
              "    <tr>\n",
              "      <th>count</th>\n",
              "      <td>6080.00000</td>\n",
              "      <td>6080.000000</td>\n",
              "      <td>6080.000000</td>\n",
              "      <td>6080.000000</td>\n",
              "      <td>6080.000000</td>\n",
              "      <td>6080.000000</td>\n",
              "    </tr>\n",
              "    <tr>\n",
              "      <th>mean</th>\n",
              "      <td>3039.50000</td>\n",
              "      <td>0.863322</td>\n",
              "      <td>151.143914</td>\n",
              "      <td>2.492599</td>\n",
              "      <td>2.341612</td>\n",
              "      <td>1.756250</td>\n",
              "    </tr>\n",
              "    <tr>\n",
              "      <th>std</th>\n",
              "      <td>1755.28915</td>\n",
              "      <td>0.343535</td>\n",
              "      <td>375.559485</td>\n",
              "      <td>1.129665</td>\n",
              "      <td>1.438860</td>\n",
              "      <td>1.611909</td>\n",
              "    </tr>\n",
              "    <tr>\n",
              "      <th>min</th>\n",
              "      <td>0.00000</td>\n",
              "      <td>0.000000</td>\n",
              "      <td>10.000000</td>\n",
              "      <td>1.000000</td>\n",
              "      <td>1.000000</td>\n",
              "      <td>0.000000</td>\n",
              "    </tr>\n",
              "    <tr>\n",
              "      <th>25%</th>\n",
              "      <td>1519.75000</td>\n",
              "      <td>1.000000</td>\n",
              "      <td>58.000000</td>\n",
              "      <td>2.000000</td>\n",
              "      <td>1.000000</td>\n",
              "      <td>1.000000</td>\n",
              "    </tr>\n",
              "    <tr>\n",
              "      <th>50%</th>\n",
              "      <td>3039.50000</td>\n",
              "      <td>1.000000</td>\n",
              "      <td>100.000000</td>\n",
              "      <td>3.000000</td>\n",
              "      <td>2.000000</td>\n",
              "      <td>1.000000</td>\n",
              "    </tr>\n",
              "    <tr>\n",
              "      <th>75%</th>\n",
              "      <td>4559.25000</td>\n",
              "      <td>1.000000</td>\n",
              "      <td>200.000000</td>\n",
              "      <td>3.000000</td>\n",
              "      <td>3.000000</td>\n",
              "      <td>2.000000</td>\n",
              "    </tr>\n",
              "    <tr>\n",
              "      <th>max</th>\n",
              "      <td>6079.00000</td>\n",
              "      <td>1.000000</td>\n",
              "      <td>24606.000000</td>\n",
              "      <td>10.000000</td>\n",
              "      <td>10.000000</td>\n",
              "      <td>12.000000</td>\n",
              "    </tr>\n",
              "  </tbody>\n",
              "</table>\n",
              "</div>"
            ],
            "text/plain": [
              "       Unnamed: 0         city  ...     bathroom  parking spaces\n",
              "count  6080.00000  6080.000000  ...  6080.000000     6080.000000\n",
              "mean   3039.50000     0.863322  ...     2.341612        1.756250\n",
              "std    1755.28915     0.343535  ...     1.438860        1.611909\n",
              "min       0.00000     0.000000  ...     1.000000        0.000000\n",
              "25%    1519.75000     1.000000  ...     1.000000        1.000000\n",
              "50%    3039.50000     1.000000  ...     2.000000        1.000000\n",
              "75%    4559.25000     1.000000  ...     3.000000        2.000000\n",
              "max    6079.00000     1.000000  ...    10.000000       12.000000\n",
              "\n",
              "[8 rows x 6 columns]"
            ]
          },
          "metadata": {
            "tags": []
          },
          "execution_count": 16
        }
      ]
    },
    {
      "cell_type": "code",
      "metadata": {
        "colab": {
          "base_uri": "https://localhost:8080/"
        },
        "id": "BNSjggraBUOZ",
        "outputId": "6005647c-a53b-4303-89cc-b856b774ab7f"
      },
      "source": [
        "data.isnull().sum().sum()"
      ],
      "execution_count": null,
      "outputs": [
        {
          "output_type": "execute_result",
          "data": {
            "text/plain": [
              "0"
            ]
          },
          "metadata": {
            "tags": []
          },
          "execution_count": 17
        }
      ]
    },
    {
      "cell_type": "code",
      "metadata": {
        "id": "ExIkxyD3B8zU"
      },
      "source": [
        "from sklearn.model_selection import train_test_split\n",
        "from sklearn.linear_model import LinearRegression\n",
        "from sklearn.ensemble import IsolationForest\n",
        "from sklearn.metrics import mean_absolute_error"
      ],
      "execution_count": null,
      "outputs": []
    },
    {
      "cell_type": "code",
      "metadata": {
        "colab": {
          "base_uri": "https://localhost:8080/"
        },
        "id": "KTVJyUwiCGHN",
        "outputId": "7d18caf7-7205-43d4-ec28-f7a2577c4436"
      },
      "source": [
        "df=data.values\n",
        "df"
      ],
      "execution_count": null,
      "outputs": [
        {
          "output_type": "execute_result",
          "data": {
            "text/plain": [
              "array([[0, 1, 240, ..., 'R$1,000', 'R$121', 'R$9,121'],\n",
              "       [1, 0, 64, ..., 'R$122', 'R$11', 'R$1,493'],\n",
              "       [2, 1, 443, ..., 'R$1,417', 'R$89', 'R$12,680'],\n",
              "       ...,\n",
              "       [6077, 0, 48, ..., 'R$42', 'R$13', 'R$1,255'],\n",
              "       [6078, 1, 160, ..., 'R$250', 'R$53', 'R$3,803'],\n",
              "       [6079, 1, 60, ..., 'R$0', 'R$25', 'R$2,414']], dtype=object)"
            ]
          },
          "metadata": {
            "tags": []
          },
          "execution_count": 19
        }
      ]
    },
    {
      "cell_type": "code",
      "metadata": {
        "id": "XppnTwPZCJHu"
      },
      "source": [
        "import numpy as np\n",
        "import pandas as pd\n",
        "import matplotlib.pyplot as plt\n",
        "import seaborn as sns\n",
        "%matplotlib inline"
      ],
      "execution_count": null,
      "outputs": []
    },
    {
      "cell_type": "code",
      "metadata": {
        "id": "Kke1Z4vgCkNm",
        "colab": {
          "base_uri": "https://localhost:8080/",
          "height": 292
        },
        "outputId": "173949f2-97a2-4a5c-ac14-e8a08d82ff0e"
      },
      "source": [
        "data = pd.read_csv(\"/content/houses_to_rent.csv\")\n",
        "data.head()"
      ],
      "execution_count": null,
      "outputs": [
        {
          "output_type": "execute_result",
          "data": {
            "text/html": [
              "<div>\n",
              "<style scoped>\n",
              "    .dataframe tbody tr th:only-of-type {\n",
              "        vertical-align: middle;\n",
              "    }\n",
              "\n",
              "    .dataframe tbody tr th {\n",
              "        vertical-align: top;\n",
              "    }\n",
              "\n",
              "    .dataframe thead th {\n",
              "        text-align: right;\n",
              "    }\n",
              "</style>\n",
              "<table border=\"1\" class=\"dataframe\">\n",
              "  <thead>\n",
              "    <tr style=\"text-align: right;\">\n",
              "      <th></th>\n",
              "      <th>Unnamed: 0</th>\n",
              "      <th>city</th>\n",
              "      <th>area</th>\n",
              "      <th>rooms</th>\n",
              "      <th>bathroom</th>\n",
              "      <th>parking spaces</th>\n",
              "      <th>floor</th>\n",
              "      <th>animal</th>\n",
              "      <th>furniture</th>\n",
              "      <th>hoa</th>\n",
              "      <th>rent amount</th>\n",
              "      <th>property tax</th>\n",
              "      <th>fire insurance</th>\n",
              "      <th>total</th>\n",
              "    </tr>\n",
              "  </thead>\n",
              "  <tbody>\n",
              "    <tr>\n",
              "      <th>0</th>\n",
              "      <td>0</td>\n",
              "      <td>1</td>\n",
              "      <td>240</td>\n",
              "      <td>3</td>\n",
              "      <td>3</td>\n",
              "      <td>4</td>\n",
              "      <td>-</td>\n",
              "      <td>acept</td>\n",
              "      <td>furnished</td>\n",
              "      <td>R$0</td>\n",
              "      <td>R$8,000</td>\n",
              "      <td>R$1,000</td>\n",
              "      <td>R$121</td>\n",
              "      <td>R$9,121</td>\n",
              "    </tr>\n",
              "    <tr>\n",
              "      <th>1</th>\n",
              "      <td>1</td>\n",
              "      <td>0</td>\n",
              "      <td>64</td>\n",
              "      <td>2</td>\n",
              "      <td>1</td>\n",
              "      <td>1</td>\n",
              "      <td>10</td>\n",
              "      <td>acept</td>\n",
              "      <td>not furnished</td>\n",
              "      <td>R$540</td>\n",
              "      <td>R$820</td>\n",
              "      <td>R$122</td>\n",
              "      <td>R$11</td>\n",
              "      <td>R$1,493</td>\n",
              "    </tr>\n",
              "    <tr>\n",
              "      <th>2</th>\n",
              "      <td>2</td>\n",
              "      <td>1</td>\n",
              "      <td>443</td>\n",
              "      <td>5</td>\n",
              "      <td>5</td>\n",
              "      <td>4</td>\n",
              "      <td>3</td>\n",
              "      <td>acept</td>\n",
              "      <td>furnished</td>\n",
              "      <td>R$4,172</td>\n",
              "      <td>R$7,000</td>\n",
              "      <td>R$1,417</td>\n",
              "      <td>R$89</td>\n",
              "      <td>R$12,680</td>\n",
              "    </tr>\n",
              "    <tr>\n",
              "      <th>3</th>\n",
              "      <td>3</td>\n",
              "      <td>1</td>\n",
              "      <td>73</td>\n",
              "      <td>2</td>\n",
              "      <td>2</td>\n",
              "      <td>1</td>\n",
              "      <td>12</td>\n",
              "      <td>acept</td>\n",
              "      <td>not furnished</td>\n",
              "      <td>R$700</td>\n",
              "      <td>R$1,250</td>\n",
              "      <td>R$150</td>\n",
              "      <td>R$16</td>\n",
              "      <td>R$2,116</td>\n",
              "    </tr>\n",
              "    <tr>\n",
              "      <th>4</th>\n",
              "      <td>4</td>\n",
              "      <td>1</td>\n",
              "      <td>19</td>\n",
              "      <td>1</td>\n",
              "      <td>1</td>\n",
              "      <td>0</td>\n",
              "      <td>-</td>\n",
              "      <td>not acept</td>\n",
              "      <td>not furnished</td>\n",
              "      <td>R$0</td>\n",
              "      <td>R$1,200</td>\n",
              "      <td>R$41</td>\n",
              "      <td>R$16</td>\n",
              "      <td>R$1,257</td>\n",
              "    </tr>\n",
              "  </tbody>\n",
              "</table>\n",
              "</div>"
            ],
            "text/plain": [
              "   Unnamed: 0  city  area  ...  property tax  fire insurance     total\n",
              "0           0     1   240  ...       R$1,000           R$121   R$9,121\n",
              "1           1     0    64  ...         R$122            R$11   R$1,493\n",
              "2           2     1   443  ...       R$1,417            R$89  R$12,680\n",
              "3           3     1    73  ...         R$150            R$16   R$2,116\n",
              "4           4     1    19  ...          R$41            R$16   R$1,257\n",
              "\n",
              "[5 rows x 14 columns]"
            ]
          },
          "metadata": {
            "tags": []
          },
          "execution_count": 2
        }
      ]
    },
    {
      "cell_type": "code",
      "metadata": {
        "colab": {
          "base_uri": "https://localhost:8080/"
        },
        "id": "bJMWM8zJI6aR",
        "outputId": "17638d76-f9d4-43d0-e627-572afe0a8d8c"
      },
      "source": [
        "data.info()"
      ],
      "execution_count": null,
      "outputs": [
        {
          "output_type": "stream",
          "text": [
            "<class 'pandas.core.frame.DataFrame'>\n",
            "RangeIndex: 6080 entries, 0 to 6079\n",
            "Data columns (total 14 columns):\n",
            " #   Column          Non-Null Count  Dtype \n",
            "---  ------          --------------  ----- \n",
            " 0   Unnamed: 0      6080 non-null   int64 \n",
            " 1   city            6080 non-null   int64 \n",
            " 2   area            6080 non-null   int64 \n",
            " 3   rooms           6080 non-null   int64 \n",
            " 4   bathroom        6080 non-null   int64 \n",
            " 5   parking spaces  6080 non-null   int64 \n",
            " 6   floor           6080 non-null   object\n",
            " 7   animal          6080 non-null   object\n",
            " 8   furniture       6080 non-null   object\n",
            " 9   hoa             6080 non-null   object\n",
            " 10  rent amount     6080 non-null   object\n",
            " 11  property tax    6080 non-null   object\n",
            " 12  fire insurance  6080 non-null   object\n",
            " 13  total           6080 non-null   object\n",
            "dtypes: int64(6), object(8)\n",
            "memory usage: 665.1+ KB\n"
          ],
          "name": "stdout"
        }
      ]
    },
    {
      "cell_type": "code",
      "metadata": {
        "colab": {
          "base_uri": "https://localhost:8080/"
        },
        "id": "yJvXjFIPJEMO",
        "outputId": "b66e36a1-16e1-43c4-b4ae-6c2324ffbe4d"
      },
      "source": [
        "data['area'].unique()"
      ],
      "execution_count": null,
      "outputs": [
        {
          "output_type": "execute_result",
          "data": {
            "text/plain": [
              "array([  240,    64,   443,    73,    19,    13,    55,    82,    32,\n",
              "          60,    20,   375,    92,    56,   188,   100,   192,    93,\n",
              "         155,    80,    65,   320,   180,    31,   105,   300,   150,\n",
              "         130,    70,   120,   250,    50,    94,   176,   191,    25,\n",
              "         800,   340,    90,   650,   230,   190,   205,    96,   396,\n",
              "          74,    30,   400,   220,   750,   140,    22,   345,    46,\n",
              "          35,    72,    83,    38,    62,    85,   134,   200,   170,\n",
              "          58,    87,    42,   145,   500,   265,   126,    29,    59,\n",
              "         290,   172,    40,   280,   115,   540,    76,   236,   270,\n",
              "          48,   198,   185,   440,   119,    57,    51,   169,    33,\n",
              "         225,   260,   243,    45,    47,    68,   187,    17,    67,\n",
              "         118,    43,   195,   141,    16,   112,   128,   110,   107,\n",
              "          97,   349,    84,   286,   196,   184,   117,    11,   360,\n",
              "         122,   138,    52,   160,   209,   450,   900,   420,   148,\n",
              "          75,    44,    98,   322,   600,   520,    86,   550,   298,\n",
              "          41,    89,   177,    18,    66,   515,   350,    78,   106,\n",
              "         153,   700,   640,   103,   113,   164,   136,   163,    79,\n",
              "         104,   203,    53,    27,   175,   326,    23,   210,    91,\n",
              "         151,   235,    63,   325,   159,    88,   246,   157,   189,\n",
              "          49,   423,   132,   108,   129,   158,    39,   462,   165,\n",
              "          28,   125,    95,   310,   560,   224,   114,   127,   330,\n",
              "         146,    69,   109,   162,   580,   216,   135,   266,   380,\n",
              "         382,   116,   556,    61,    81,   178,   308,   206,   156,\n",
              "          37,   182,   850,   275,    71,   111,    54,   244,   166,\n",
              "         370,   296,   123,    36,   354,   147,   272,   212,   278,\n",
              "         197,   323,   154,   256,   171,   287,   131,    77,   293,\n",
              "          10,   430,   234,   417,    99,   245,   168,   294,   226,\n",
              "         167,   348,   251,   292,   472,   365,   387,   316,   258,\n",
              "         402,   630,   255,   252,   102,   238,   279,   194,   227,\n",
              "         208,   161,   219,   262,   720,    34,   142,   277,   143,\n",
              "         137,   218,   333,   101,   312,   351,   186,   204,   455,\n",
              "         173,   651,   355,   408,   273,   248,   999,   295,   645,\n",
              "         578,   305,   346,    26,   121,   469,   284,   217,   139,\n",
              "         144,   339,   486,   830,   347,    12,   525,   228,   395,\n",
              "         685,   297,   269,   390,   309,   884,   213,   315,   223,\n",
              "         384,   418,   328,   179,   152,   288,   341,   318,   376,\n",
              "         289,   232,   249,   530,   363,   268,   174,    24,   124,\n",
              "         291,   470,   276,   311,   717,   214,   285,   215,   364,\n",
              "         264,   680,   565,   253,   237,   620,   149,   353,   133,\n",
              "         480,   411,   199,   233,   231,   398,   202,   201,   410,\n",
              "         254,   415,   845,   239,   242,   362,   412,   383,   399,\n",
              "         303,   394,   660,   438,   229,   181,   427,   890,    15,\n",
              "         368,   193,   524,   447,  1600,   998,   391,   221,   307,\n",
              "         378,   222,   301, 24606,   334,   267,   359,   488,    21,\n",
              "         332,   358,   342,   282,   445,   386,   442,   321,   392,\n",
              "         207,   336,   327,   211,  1000,   183,   257,   373,   510,\n",
              "         247,   465,   570,   444,   495,   414, 12732,   372,   366,\n",
              "         263,   281,   335,   629,   352,   416,   505,   596,   385,\n",
              "         343,   306,   319])"
            ]
          },
          "metadata": {
            "tags": []
          },
          "execution_count": 4
        }
      ]
    },
    {
      "cell_type": "code",
      "metadata": {
        "colab": {
          "base_uri": "https://localhost:8080/",
          "height": 350
        },
        "id": "j0qchNQLJP6_",
        "outputId": "5d715b04-2ae4-4de8-fa56-bcee3b55cddb"
      },
      "source": [
        "sns.boxplot(data['area'])"
      ],
      "execution_count": null,
      "outputs": [
        {
          "output_type": "stream",
          "text": [
            "/usr/local/lib/python3.7/dist-packages/seaborn/_decorators.py:43: FutureWarning: Pass the following variable as a keyword arg: x. From version 0.12, the only valid positional argument will be `data`, and passing other arguments without an explicit keyword will result in an error or misinterpretation.\n",
            "  FutureWarning\n"
          ],
          "name": "stderr"
        },
        {
          "output_type": "execute_result",
          "data": {
            "text/plain": [
              "<matplotlib.axes._subplots.AxesSubplot at 0x7f4e953b01d0>"
            ]
          },
          "metadata": {
            "tags": []
          },
          "execution_count": 5
        },
        {
          "output_type": "display_data",
          "data": {
            "image/png": "[encoded data removed]",
            "text/plain": [
              "<Figure size 432x288 with 1 Axes>"
            ]
          },
          "metadata": {
            "tags": [],
            "needs_background": "light"
          }
        }
      ]
    },
    {
      "cell_type": "code",
      "metadata": {
        "colab": {
          "base_uri": "https://localhost:8080/"
        },
        "id": "D4Pq2J4ZJcT2",
        "outputId": "48a6e6b6-8b88-44ec-b381-da8425350a32"
      },
      "source": [
        "data['area'].describe()"
      ],
      "execution_count": null,
      "outputs": [
        {
          "output_type": "execute_result",
          "data": {
            "text/plain": [
              "count     6080.000000\n",
              "mean       151.143914\n",
              "std        375.559485\n",
              "min         10.000000\n",
              "25%         58.000000\n",
              "50%        100.000000\n",
              "75%        200.000000\n",
              "max      24606.000000\n",
              "Name: area, dtype: float64"
            ]
          },
          "metadata": {
            "tags": []
          },
          "execution_count": 6
        }
      ]
    },
    {
      "cell_type": "code",
      "metadata": {
        "colab": {
          "base_uri": "https://localhost:8080/",
          "height": 230
        },
        "id": "nD_-3LI3JiY_",
        "outputId": "ba84b9c6-8650-4e50-c29d-aa9e12b4d002"
      },
      "source": [
        "higher_1000 = data.query('area>1000')\n",
        "higher_1000.head()"
      ],
      "execution_count": null,
      "outputs": [
        {
          "output_type": "execute_result",
          "data": {
            "text/html": [
              "<div>\n",
              "<style scoped>\n",
              "    .dataframe tbody tr th:only-of-type {\n",
              "        vertical-align: middle;\n",
              "    }\n",
              "\n",
              "    .dataframe tbody tr th {\n",
              "        vertical-align: top;\n",
              "    }\n",
              "\n",
              "    .dataframe thead th {\n",
              "        text-align: right;\n",
              "    }\n",
              "</style>\n",
              "<table border=\"1\" class=\"dataframe\">\n",
              "  <thead>\n",
              "    <tr style=\"text-align: right;\">\n",
              "      <th></th>\n",
              "      <th>Unnamed: 0</th>\n",
              "      <th>city</th>\n",
              "      <th>area</th>\n",
              "      <th>rooms</th>\n",
              "      <th>bathroom</th>\n",
              "      <th>parking spaces</th>\n",
              "      <th>floor</th>\n",
              "      <th>animal</th>\n",
              "      <th>furniture</th>\n",
              "      <th>hoa</th>\n",
              "      <th>rent amount</th>\n",
              "      <th>property tax</th>\n",
              "      <th>fire insurance</th>\n",
              "      <th>total</th>\n",
              "    </tr>\n",
              "  </thead>\n",
              "  <tbody>\n",
              "    <tr>\n",
              "      <th>3983</th>\n",
              "      <td>3983</td>\n",
              "      <td>1</td>\n",
              "      <td>1600</td>\n",
              "      <td>4</td>\n",
              "      <td>5</td>\n",
              "      <td>12</td>\n",
              "      <td>-</td>\n",
              "      <td>acept</td>\n",
              "      <td>not furnished</td>\n",
              "      <td>R$1</td>\n",
              "      <td>R$7,900</td>\n",
              "      <td>R$5,000</td>\n",
              "      <td>R$119</td>\n",
              "      <td>R$13,020</td>\n",
              "    </tr>\n",
              "    <tr>\n",
              "      <th>4178</th>\n",
              "      <td>4178</td>\n",
              "      <td>1</td>\n",
              "      <td>24606</td>\n",
              "      <td>5</td>\n",
              "      <td>4</td>\n",
              "      <td>4</td>\n",
              "      <td>12</td>\n",
              "      <td>acept</td>\n",
              "      <td>not furnished</td>\n",
              "      <td>R$2,254</td>\n",
              "      <td>R$8,100</td>\n",
              "      <td>R$7,859</td>\n",
              "      <td>R$103</td>\n",
              "      <td>R$18,320</td>\n",
              "    </tr>\n",
              "    <tr>\n",
              "      <th>5494</th>\n",
              "      <td>5494</td>\n",
              "      <td>0</td>\n",
              "      <td>12732</td>\n",
              "      <td>3</td>\n",
              "      <td>2</td>\n",
              "      <td>0</td>\n",
              "      <td>3</td>\n",
              "      <td>acept</td>\n",
              "      <td>not furnished</td>\n",
              "      <td>R$700</td>\n",
              "      <td>R$1,600</td>\n",
              "      <td>R$96</td>\n",
              "      <td>R$21</td>\n",
              "      <td>R$2,417</td>\n",
              "    </tr>\n",
              "  </tbody>\n",
              "</table>\n",
              "</div>"
            ],
            "text/plain": [
              "      Unnamed: 0  city   area  ...  property tax  fire insurance     total\n",
              "3983        3983     1   1600  ...       R$5,000           R$119  R$13,020\n",
              "4178        4178     1  24606  ...       R$7,859           R$103  R$18,320\n",
              "5494        5494     0  12732  ...          R$96            R$21   R$2,417\n",
              "\n",
              "[3 rows x 14 columns]"
            ]
          },
          "metadata": {
            "tags": []
          },
          "execution_count": 9
        }
      ]
    },
    {
      "cell_type": "code",
      "metadata": {
        "colab": {
          "base_uri": "https://localhost:8080/"
        },
        "id": "rpuzoyfQJ4Uh",
        "outputId": "4202bc4a-e98e-48bb-eebe-a89eff458759"
      },
      "source": [
        "higher_1000.shape"
      ],
      "execution_count": null,
      "outputs": [
        {
          "output_type": "execute_result",
          "data": {
            "text/plain": [
              "(3, 14)"
            ]
          },
          "metadata": {
            "tags": []
          },
          "execution_count": 8
        }
      ]
    },
    {
      "cell_type": "code",
      "metadata": {
        "colab": {
          "base_uri": "https://localhost:8080/",
          "height": 292
        },
        "id": "pjSi90eKKGcP",
        "outputId": "eec13d2a-1c3c-48fd-8738-383c026bf9e3"
      },
      "source": [
        "data = data.query('area<=1000')\n",
        "data.head()"
      ],
      "execution_count": null,
      "outputs": [
        {
          "output_type": "execute_result",
          "data": {
            "text/html": [
              "<div>\n",
              "<style scoped>\n",
              "    .dataframe tbody tr th:only-of-type {\n",
              "        vertical-align: middle;\n",
              "    }\n",
              "\n",
              "    .dataframe tbody tr th {\n",
              "        vertical-align: top;\n",
              "    }\n",
              "\n",
              "    .dataframe thead th {\n",
              "        text-align: right;\n",
              "    }\n",
              "</style>\n",
              "<table border=\"1\" class=\"dataframe\">\n",
              "  <thead>\n",
              "    <tr style=\"text-align: right;\">\n",
              "      <th></th>\n",
              "      <th>Unnamed: 0</th>\n",
              "      <th>city</th>\n",
              "      <th>area</th>\n",
              "      <th>rooms</th>\n",
              "      <th>bathroom</th>\n",
              "      <th>parking spaces</th>\n",
              "      <th>floor</th>\n",
              "      <th>animal</th>\n",
              "      <th>furniture</th>\n",
              "      <th>hoa</th>\n",
              "      <th>rent amount</th>\n",
              "      <th>property tax</th>\n",
              "      <th>fire insurance</th>\n",
              "      <th>total</th>\n",
              "    </tr>\n",
              "  </thead>\n",
              "  <tbody>\n",
              "    <tr>\n",
              "      <th>0</th>\n",
              "      <td>0</td>\n",
              "      <td>1</td>\n",
              "      <td>240</td>\n",
              "      <td>3</td>\n",
              "      <td>3</td>\n",
              "      <td>4</td>\n",
              "      <td>-</td>\n",
              "      <td>acept</td>\n",
              "      <td>furnished</td>\n",
              "      <td>R$0</td>\n",
              "      <td>R$8,000</td>\n",
              "      <td>R$1,000</td>\n",
              "      <td>R$121</td>\n",
              "      <td>R$9,121</td>\n",
              "    </tr>\n",
              "    <tr>\n",
              "      <th>1</th>\n",
              "      <td>1</td>\n",
              "      <td>0</td>\n",
              "      <td>64</td>\n",
              "      <td>2</td>\n",
              "      <td>1</td>\n",
              "      <td>1</td>\n",
              "      <td>10</td>\n",
              "      <td>acept</td>\n",
              "      <td>not furnished</td>\n",
              "      <td>R$540</td>\n",
              "      <td>R$820</td>\n",
              "      <td>R$122</td>\n",
              "      <td>R$11</td>\n",
              "      <td>R$1,493</td>\n",
              "    </tr>\n",
              "    <tr>\n",
              "      <th>2</th>\n",
              "      <td>2</td>\n",
              "      <td>1</td>\n",
              "      <td>443</td>\n",
              "      <td>5</td>\n",
              "      <td>5</td>\n",
              "      <td>4</td>\n",
              "      <td>3</td>\n",
              "      <td>acept</td>\n",
              "      <td>furnished</td>\n",
              "      <td>R$4,172</td>\n",
              "      <td>R$7,000</td>\n",
              "      <td>R$1,417</td>\n",
              "      <td>R$89</td>\n",
              "      <td>R$12,680</td>\n",
              "    </tr>\n",
              "    <tr>\n",
              "      <th>3</th>\n",
              "      <td>3</td>\n",
              "      <td>1</td>\n",
              "      <td>73</td>\n",
              "      <td>2</td>\n",
              "      <td>2</td>\n",
              "      <td>1</td>\n",
              "      <td>12</td>\n",
              "      <td>acept</td>\n",
              "      <td>not furnished</td>\n",
              "      <td>R$700</td>\n",
              "      <td>R$1,250</td>\n",
              "      <td>R$150</td>\n",
              "      <td>R$16</td>\n",
              "      <td>R$2,116</td>\n",
              "    </tr>\n",
              "    <tr>\n",
              "      <th>4</th>\n",
              "      <td>4</td>\n",
              "      <td>1</td>\n",
              "      <td>19</td>\n",
              "      <td>1</td>\n",
              "      <td>1</td>\n",
              "      <td>0</td>\n",
              "      <td>-</td>\n",
              "      <td>not acept</td>\n",
              "      <td>not furnished</td>\n",
              "      <td>R$0</td>\n",
              "      <td>R$1,200</td>\n",
              "      <td>R$41</td>\n",
              "      <td>R$16</td>\n",
              "      <td>R$1,257</td>\n",
              "    </tr>\n",
              "  </tbody>\n",
              "</table>\n",
              "</div>"
            ],
            "text/plain": [
              "   Unnamed: 0  city  area  ...  property tax  fire insurance     total\n",
              "0           0     1   240  ...       R$1,000           R$121   R$9,121\n",
              "1           1     0    64  ...         R$122            R$11   R$1,493\n",
              "2           2     1   443  ...       R$1,417            R$89  R$12,680\n",
              "3           3     1    73  ...         R$150            R$16   R$2,116\n",
              "4           4     1    19  ...          R$41            R$16   R$1,257\n",
              "\n",
              "[5 rows x 14 columns]"
            ]
          },
          "metadata": {
            "tags": []
          },
          "execution_count": 10
        }
      ]
    },
    {
      "cell_type": "code",
      "metadata": {
        "colab": {
          "base_uri": "https://localhost:8080/",
          "height": 350
        },
        "id": "s7GnQ75lKYKR",
        "outputId": "fabb5d75-64e1-465a-d62d-b11d78a283ef"
      },
      "source": [
        "sns.boxplot(data['area'])"
      ],
      "execution_count": null,
      "outputs": [
        {
          "output_type": "stream",
          "text": [
            "/usr/local/lib/python3.7/dist-packages/seaborn/_decorators.py:43: FutureWarning: Pass the following variable as a keyword arg: x. From version 0.12, the only valid positional argument will be `data`, and passing other arguments without an explicit keyword will result in an error or misinterpretation.\n",
            "  FutureWarning\n"
          ],
          "name": "stderr"
        },
        {
          "output_type": "execute_result",
          "data": {
            "text/plain": [
              "<matplotlib.axes._subplots.AxesSubplot at 0x7f4e952c2310>"
            ]
          },
          "metadata": {
            "tags": []
          },
          "execution_count": 11
        },
        {
          "output_type": "display_data",
          "data": {
            "image/png": "[encoded data removed]",
            "text/plain": [
              "<Figure size 432x288 with 1 Axes>"
            ]
          },
          "metadata": {
            "tags": [],
            "needs_background": "light"
          }
        }
      ]
    },
    {
      "cell_type": "code",
      "metadata": {
        "colab": {
          "base_uri": "https://localhost:8080/"
        },
        "id": "IBzeiUi8KfdP",
        "outputId": "88d68784-3413-452c-ab5e-a22758a36c8d"
      },
      "source": [
        "data['floor'].unique()"
      ],
      "execution_count": null,
      "outputs": [
        {
          "output_type": "execute_result",
          "data": {
            "text/plain": [
              "array(['-', '10', '3', '12', '2', '16', '6', '4', '1', '7', '13', '9',\n",
              "       '14', '5', '8', '15', '11', '19', '20', '24', '23', '17', '18',\n",
              "       '22', '27', '85', '28', '25', '29', '35', '21', '31', '99', '26',\n",
              "       '68', '32', '51'], dtype=object)"
            ]
          },
          "metadata": {
            "tags": []
          },
          "execution_count": 12
        }
      ]
    },
    {
      "cell_type": "code",
      "metadata": {
        "colab": {
          "base_uri": "https://localhost:8080/",
          "height": 292
        },
        "id": "h_uOqp7ZKmxe",
        "outputId": "922cff16-7e9f-4af4-e053-4a19ca62eeba"
      },
      "source": [
        "data2 = data.rename(columns={'floor':'floors'})\n",
        "data2.head()"
      ],
      "execution_count": null,
      "outputs": [
        {
          "output_type": "execute_result",
          "data": {
            "text/html": [
              "<div>\n",
              "<style scoped>\n",
              "    .dataframe tbody tr th:only-of-type {\n",
              "        vertical-align: middle;\n",
              "    }\n",
              "\n",
              "    .dataframe tbody tr th {\n",
              "        vertical-align: top;\n",
              "    }\n",
              "\n",
              "    .dataframe thead th {\n",
              "        text-align: right;\n",
              "    }\n",
              "</style>\n",
              "<table border=\"1\" class=\"dataframe\">\n",
              "  <thead>\n",
              "    <tr style=\"text-align: right;\">\n",
              "      <th></th>\n",
              "      <th>Unnamed: 0</th>\n",
              "      <th>city</th>\n",
              "      <th>area</th>\n",
              "      <th>rooms</th>\n",
              "      <th>bathroom</th>\n",
              "      <th>parking spaces</th>\n",
              "      <th>floors</th>\n",
              "      <th>animal</th>\n",
              "      <th>furniture</th>\n",
              "      <th>hoa</th>\n",
              "      <th>rent amount</th>\n",
              "      <th>property tax</th>\n",
              "      <th>fire insurance</th>\n",
              "      <th>total</th>\n",
              "    </tr>\n",
              "  </thead>\n",
              "  <tbody>\n",
              "    <tr>\n",
              "      <th>0</th>\n",
              "      <td>0</td>\n",
              "      <td>1</td>\n",
              "      <td>240</td>\n",
              "      <td>3</td>\n",
              "      <td>3</td>\n",
              "      <td>4</td>\n",
              "      <td>-</td>\n",
              "      <td>acept</td>\n",
              "      <td>furnished</td>\n",
              "      <td>R$0</td>\n",
              "      <td>R$8,000</td>\n",
              "      <td>R$1,000</td>\n",
              "      <td>R$121</td>\n",
              "      <td>R$9,121</td>\n",
              "    </tr>\n",
              "    <tr>\n",
              "      <th>1</th>\n",
              "      <td>1</td>\n",
              "      <td>0</td>\n",
              "      <td>64</td>\n",
              "      <td>2</td>\n",
              "      <td>1</td>\n",
              "      <td>1</td>\n",
              "      <td>10</td>\n",
              "      <td>acept</td>\n",
              "      <td>not furnished</td>\n",
              "      <td>R$540</td>\n",
              "      <td>R$820</td>\n",
              "      <td>R$122</td>\n",
              "      <td>R$11</td>\n",
              "      <td>R$1,493</td>\n",
              "    </tr>\n",
              "    <tr>\n",
              "      <th>2</th>\n",
              "      <td>2</td>\n",
              "      <td>1</td>\n",
              "      <td>443</td>\n",
              "      <td>5</td>\n",
              "      <td>5</td>\n",
              "      <td>4</td>\n",
              "      <td>3</td>\n",
              "      <td>acept</td>\n",
              "      <td>furnished</td>\n",
              "      <td>R$4,172</td>\n",
              "      <td>R$7,000</td>\n",
              "      <td>R$1,417</td>\n",
              "      <td>R$89</td>\n",
              "      <td>R$12,680</td>\n",
              "    </tr>\n",
              "    <tr>\n",
              "      <th>3</th>\n",
              "      <td>3</td>\n",
              "      <td>1</td>\n",
              "      <td>73</td>\n",
              "      <td>2</td>\n",
              "      <td>2</td>\n",
              "      <td>1</td>\n",
              "      <td>12</td>\n",
              "      <td>acept</td>\n",
              "      <td>not furnished</td>\n",
              "      <td>R$700</td>\n",
              "      <td>R$1,250</td>\n",
              "      <td>R$150</td>\n",
              "      <td>R$16</td>\n",
              "      <td>R$2,116</td>\n",
              "    </tr>\n",
              "    <tr>\n",
              "      <th>4</th>\n",
              "      <td>4</td>\n",
              "      <td>1</td>\n",
              "      <td>19</td>\n",
              "      <td>1</td>\n",
              "      <td>1</td>\n",
              "      <td>0</td>\n",
              "      <td>-</td>\n",
              "      <td>not acept</td>\n",
              "      <td>not furnished</td>\n",
              "      <td>R$0</td>\n",
              "      <td>R$1,200</td>\n",
              "      <td>R$41</td>\n",
              "      <td>R$16</td>\n",
              "      <td>R$1,257</td>\n",
              "    </tr>\n",
              "  </tbody>\n",
              "</table>\n",
              "</div>"
            ],
            "text/plain": [
              "   Unnamed: 0  city  area  ...  property tax  fire insurance     total\n",
              "0           0     1   240  ...       R$1,000           R$121   R$9,121\n",
              "1           1     0    64  ...         R$122            R$11   R$1,493\n",
              "2           2     1   443  ...       R$1,417            R$89  R$12,680\n",
              "3           3     1    73  ...         R$150            R$16   R$2,116\n",
              "4           4     1    19  ...          R$41            R$16   R$1,257\n",
              "\n",
              "[5 rows x 14 columns]"
            ]
          },
          "metadata": {
            "tags": []
          },
          "execution_count": 13
        }
      ]
    },
    {
      "cell_type": "code",
      "metadata": {
        "id": "k3G9quWFLG0N"
      },
      "source": [
        "data2['floors'] = data2['floors'].replace('-','0')\n"
      ],
      "execution_count": null,
      "outputs": []
    },
    {
      "cell_type": "code",
      "metadata": {
        "colab": {
          "base_uri": "https://localhost:8080/"
        },
        "id": "o7-v80uWLcgm",
        "outputId": "ccf22224-1151-4f9e-8235-4e55cb24b7c7"
      },
      "source": [
        "data2['floors'].unique()"
      ],
      "execution_count": 16,
      "outputs": [
        {
          "output_type": "execute_result",
          "data": {
            "text/plain": [
              "array(['0', '10', '3', '12', '2', '16', '6', '4', '1', '7', '13', '9',\n",
              "       '14', '5', '8', '15', '11', '19', '20', '24', '23', '17', '18',\n",
              "       '22', '27', '85', '28', '25', '29', '35', '21', '31', '99', '26',\n",
              "       '68', '32', '51'], dtype=object)"
            ]
          },
          "metadata": {
            "tags": []
          },
          "execution_count": 16
        }
      ]
    },
    {
      "cell_type": "code",
      "metadata": {
        "id": "o_bvNdt9LiL4"
      },
      "source": [
        "data2['floors'] = data2['floors'].astype(int)"
      ],
      "execution_count": 17,
      "outputs": []
    },
    {
      "cell_type": "code",
      "metadata": {
        "colab": {
          "base_uri": "https://localhost:8080/"
        },
        "id": "W4-y5kqhboih",
        "outputId": "ba3d8dd3-047c-4b59-b1bb-633ba723cef8"
      },
      "source": [
        "data2.info()"
      ],
      "execution_count": 18,
      "outputs": [
        {
          "output_type": "stream",
          "text": [
            "<class 'pandas.core.frame.DataFrame'>\n",
            "Int64Index: 6077 entries, 0 to 6079\n",
            "Data columns (total 14 columns):\n",
            " #   Column          Non-Null Count  Dtype \n",
            "---  ------          --------------  ----- \n",
            " 0   Unnamed: 0      6077 non-null   int64 \n",
            " 1   city            6077 non-null   int64 \n",
            " 2   area            6077 non-null   int64 \n",
            " 3   rooms           6077 non-null   int64 \n",
            " 4   bathroom        6077 non-null   int64 \n",
            " 5   parking spaces  6077 non-null   int64 \n",
            " 6   floors          6077 non-null   int64 \n",
            " 7   animal          6077 non-null   object\n",
            " 8   furniture       6077 non-null   object\n",
            " 9   hoa             6077 non-null   object\n",
            " 10  rent amount     6077 non-null   object\n",
            " 11  property tax    6077 non-null   object\n",
            " 12  fire insurance  6077 non-null   object\n",
            " 13  total           6077 non-null   object\n",
            "dtypes: int64(7), object(7)\n",
            "memory usage: 712.1+ KB\n"
          ],
          "name": "stdout"
        }
      ]
    },
    {
      "cell_type": "code",
      "metadata": {
        "colab": {
          "base_uri": "https://localhost:8080/"
        },
        "id": "BPwTtG7Nbzh1",
        "outputId": "3beae24e-d31e-477f-9d3d-e552b5ea918a"
      },
      "source": [
        "data2['floors'].describe()"
      ],
      "execution_count": 19,
      "outputs": [
        {
          "output_type": "execute_result",
          "data": {
            "text/plain": [
              "count    6077.000000\n",
              "mean        5.672536\n",
              "std         6.169383\n",
              "min         0.000000\n",
              "25%         0.000000\n",
              "50%         4.000000\n",
              "75%         9.000000\n",
              "max        99.000000\n",
              "Name: floors, dtype: float64"
            ]
          },
          "metadata": {
            "tags": []
          },
          "execution_count": 19
        }
      ]
    },
    {
      "cell_type": "code",
      "metadata": {
        "colab": {
          "base_uri": "https://localhost:8080/",
          "height": 350
        },
        "id": "lvuvWaOIcDPM",
        "outputId": "edf6be54-3834-426a-93a3-f47a74ed666e"
      },
      "source": [
        "sns.boxplot(data2['floors'])"
      ],
      "execution_count": 20,
      "outputs": [
        {
          "output_type": "stream",
          "text": [
            "/usr/local/lib/python3.7/dist-packages/seaborn/_decorators.py:43: FutureWarning: Pass the following variable as a keyword arg: x. From version 0.12, the only valid positional argument will be `data`, and passing other arguments without an explicit keyword will result in an error or misinterpretation.\n",
            "  FutureWarning\n"
          ],
          "name": "stderr"
        },
        {
          "output_type": "execute_result",
          "data": {
            "text/plain": [
              "<matplotlib.axes._subplots.AxesSubplot at 0x7f4e93b2b550>"
            ]
          },
          "metadata": {
            "tags": []
          },
          "execution_count": 20
        },
        {
          "output_type": "display_data",
          "data": {
            "image/png": "[encoded data removed]",
            "text/plain": [
              "<Figure size 432x288 with 1 Axes>"
            ]
          },
          "metadata": {
            "tags": [],
            "needs_background": "light"
          }
        }
      ]
    },
    {
      "cell_type": "code",
      "metadata": {
        "colab": {
          "base_uri": "https://localhost:8080/"
        },
        "id": "N6lD3IMlcPxH",
        "outputId": "2a75c8fa-7696-40cc-85b7-18a382b8eac7"
      },
      "source": [
        "data_81 = (data2['floors']> 81).sum()\n",
        "data_81"
      ],
      "execution_count": 21,
      "outputs": [
        {
          "output_type": "execute_result",
          "data": {
            "text/plain": [
              "2"
            ]
          },
          "metadata": {
            "tags": []
          },
          "execution_count": 21
        }
      ]
    },
    {
      "cell_type": "code",
      "metadata": {
        "id": "1MKvU9L6cknc"
      },
      "source": [
        "data2 = data2.query('floors<81')"
      ],
      "execution_count": 22,
      "outputs": []
    },
    {
      "cell_type": "code",
      "metadata": {
        "colab": {
          "base_uri": "https://localhost:8080/",
          "height": 350
        },
        "id": "eNafeHhFcywX",
        "outputId": "d5efb523-9e46-43b6-f7ae-a24896854e91"
      },
      "source": [
        "sns.boxplot(data2['floors'])"
      ],
      "execution_count": 23,
      "outputs": [
        {
          "output_type": "stream",
          "text": [
            "/usr/local/lib/python3.7/dist-packages/seaborn/_decorators.py:43: FutureWarning: Pass the following variable as a keyword arg: x. From version 0.12, the only valid positional argument will be `data`, and passing other arguments without an explicit keyword will result in an error or misinterpretation.\n",
            "  FutureWarning\n"
          ],
          "name": "stderr"
        },
        {
          "output_type": "execute_result",
          "data": {
            "text/plain": [
              "<matplotlib.axes._subplots.AxesSubplot at 0x7f4e93aaf0d0>"
            ]
          },
          "metadata": {
            "tags": []
          },
          "execution_count": 23
        },
        {
          "output_type": "display_data",
          "data": {
            "image/png": "[encoded data removed]",
            "text/plain": [
              "<Figure size 432x288 with 1 Axes>"
            ]
          },
          "metadata": {
            "tags": [],
            "needs_background": "light"
          }
        }
      ]
    },
    {
      "cell_type": "code",
      "metadata": {
        "id": "gBl8aZRVc7zP"
      },
      "source": [
        "data2['total'] = data2['total'].str.replace('R$', '')"
      ],
      "execution_count": 36,
      "outputs": []
    },
    {
      "cell_type": "code",
      "metadata": {
        "id": "QFd97VC2kwpw"
      },
      "source": [
        "data2['total'] = data2['total'].str.rstrip('R$')"
      ],
      "execution_count": 37,
      "outputs": []
    },
    {
      "cell_type": "code",
      "metadata": {
        "colab": {
          "base_uri": "https://localhost:8080/",
          "height": 292
        },
        "id": "pJi5Dh7xdhB2",
        "outputId": "9ce6f9a2-9e72-4bb6-d027-96a2fe9f1f4c"
      },
      "source": [
        "data2.head()"
      ],
      "execution_count": 38,
      "outputs": [
        {
          "output_type": "execute_result",
          "data": {
            "text/html": [
              "<div>\n",
              "<style scoped>\n",
              "    .dataframe tbody tr th:only-of-type {\n",
              "        vertical-align: middle;\n",
              "    }\n",
              "\n",
              "    .dataframe tbody tr th {\n",
              "        vertical-align: top;\n",
              "    }\n",
              "\n",
              "    .dataframe thead th {\n",
              "        text-align: right;\n",
              "    }\n",
              "</style>\n",
              "<table border=\"1\" class=\"dataframe\">\n",
              "  <thead>\n",
              "    <tr style=\"text-align: right;\">\n",
              "      <th></th>\n",
              "      <th>Unnamed: 0</th>\n",
              "      <th>city</th>\n",
              "      <th>area</th>\n",
              "      <th>rooms</th>\n",
              "      <th>bathroom</th>\n",
              "      <th>parking spaces</th>\n",
              "      <th>floors</th>\n",
              "      <th>animal</th>\n",
              "      <th>furniture</th>\n",
              "      <th>hoa</th>\n",
              "      <th>rent amount</th>\n",
              "      <th>property tax</th>\n",
              "      <th>fire insurance</th>\n",
              "      <th>total</th>\n",
              "    </tr>\n",
              "  </thead>\n",
              "  <tbody>\n",
              "    <tr>\n",
              "      <th>0</th>\n",
              "      <td>0</td>\n",
              "      <td>1</td>\n",
              "      <td>240</td>\n",
              "      <td>3</td>\n",
              "      <td>3</td>\n",
              "      <td>4</td>\n",
              "      <td>0</td>\n",
              "      <td>acept</td>\n",
              "      <td>furnished</td>\n",
              "      <td>R$0</td>\n",
              "      <td>R$8,000</td>\n",
              "      <td>R$1,000</td>\n",
              "      <td>R$121</td>\n",
              "      <td>R$9,121</td>\n",
              "    </tr>\n",
              "    <tr>\n",
              "      <th>1</th>\n",
              "      <td>1</td>\n",
              "      <td>0</td>\n",
              "      <td>64</td>\n",
              "      <td>2</td>\n",
              "      <td>1</td>\n",
              "      <td>1</td>\n",
              "      <td>10</td>\n",
              "      <td>acept</td>\n",
              "      <td>not furnished</td>\n",
              "      <td>R$540</td>\n",
              "      <td>R$820</td>\n",
              "      <td>R$122</td>\n",
              "      <td>R$11</td>\n",
              "      <td>R$1,493</td>\n",
              "    </tr>\n",
              "    <tr>\n",
              "      <th>2</th>\n",
              "      <td>2</td>\n",
              "      <td>1</td>\n",
              "      <td>443</td>\n",
              "      <td>5</td>\n",
              "      <td>5</td>\n",
              "      <td>4</td>\n",
              "      <td>3</td>\n",
              "      <td>acept</td>\n",
              "      <td>furnished</td>\n",
              "      <td>R$4,172</td>\n",
              "      <td>R$7,000</td>\n",
              "      <td>R$1,417</td>\n",
              "      <td>R$89</td>\n",
              "      <td>R$12,680</td>\n",
              "    </tr>\n",
              "    <tr>\n",
              "      <th>3</th>\n",
              "      <td>3</td>\n",
              "      <td>1</td>\n",
              "      <td>73</td>\n",
              "      <td>2</td>\n",
              "      <td>2</td>\n",
              "      <td>1</td>\n",
              "      <td>12</td>\n",
              "      <td>acept</td>\n",
              "      <td>not furnished</td>\n",
              "      <td>R$700</td>\n",
              "      <td>R$1,250</td>\n",
              "      <td>R$150</td>\n",
              "      <td>R$16</td>\n",
              "      <td>R$2,116</td>\n",
              "    </tr>\n",
              "    <tr>\n",
              "      <th>4</th>\n",
              "      <td>4</td>\n",
              "      <td>1</td>\n",
              "      <td>19</td>\n",
              "      <td>1</td>\n",
              "      <td>1</td>\n",
              "      <td>0</td>\n",
              "      <td>0</td>\n",
              "      <td>not acept</td>\n",
              "      <td>not furnished</td>\n",
              "      <td>R$0</td>\n",
              "      <td>R$1,200</td>\n",
              "      <td>R$41</td>\n",
              "      <td>R$16</td>\n",
              "      <td>R$1,257</td>\n",
              "    </tr>\n",
              "  </tbody>\n",
              "</table>\n",
              "</div>"
            ],
            "text/plain": [
              "   Unnamed: 0  city  area  ...  property tax  fire insurance     total\n",
              "0           0     1   240  ...       R$1,000           R$121   R$9,121\n",
              "1           1     0    64  ...         R$122            R$11   R$1,493\n",
              "2           2     1   443  ...       R$1,417            R$89  R$12,680\n",
              "3           3     1    73  ...         R$150            R$16   R$2,116\n",
              "4           4     1    19  ...          R$41            R$16   R$1,257\n",
              "\n",
              "[5 rows x 14 columns]"
            ]
          },
          "metadata": {
            "tags": []
          },
          "execution_count": 38
        }
      ]
    },
    {
      "cell_type": "code",
      "metadata": {
        "id": "vYV-S3eBjj5K"
      },
      "source": [
        ""
      ],
      "execution_count": null,
      "outputs": []
    }
  ]
}
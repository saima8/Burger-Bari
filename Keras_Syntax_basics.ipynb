{
  "nbformat": 4,
  "nbformat_minor": 0,
  "metadata": {
    "colab": {
      "name": "Keras Syntax basics.ipynb",
      "provenance": [],
      "authorship_tag": "ABX9TyOQc/6PYsXpCgdJN6usUwTE",
      "include_colab_link": true
    },
    "kernelspec": {
      "name": "python3",
      "display_name": "Python 3"
    },
    "language_info": {
      "name": "python"
    }
  },
  "cells": [
    {
      "cell_type": "markdown",
      "metadata": {
        "id": "view-in-github",
        "colab_type": "text"
      },
      "source": [
        "<a href=\"https://colab.research.google.com/github/saima8/Burger-Bari/blob/main/Keras_Syntax_basics.ipynb\" target=\"_parent\"><img src=\"https://colab.research.google.com/assets/colab-badge.svg\" alt=\"Open In Colab\"/></a>"
      ]
    },
    {
      "cell_type": "code",
      "metadata": {
        "id": "uCfK6apn8khr"
      },
      "source": [
        "import pandas as pd\n",
        "import numpy as np\n",
        "\n",
        "import seaborn as sns"
      ],
      "execution_count": 1,
      "outputs": []
    },
    {
      "cell_type": "code",
      "metadata": {
        "colab": {
          "base_uri": "https://localhost:8080/",
          "height": 204
        },
        "id": "F8IUl0bV9loV",
        "outputId": "5d372aa4-3867-4485-9646-2cd5713662be"
      },
      "source": [
        "df = pd.read_csv('/content/fake_reg.csv')\n",
        "df.head()"
      ],
      "execution_count": 2,
      "outputs": [
        {
          "output_type": "execute_result",
          "data": {
            "text/html": [
              "<div>\n",
              "<style scoped>\n",
              "    .dataframe tbody tr th:only-of-type {\n",
              "        vertical-align: middle;\n",
              "    }\n",
              "\n",
              "    .dataframe tbody tr th {\n",
              "        vertical-align: top;\n",
              "    }\n",
              "\n",
              "    .dataframe thead th {\n",
              "        text-align: right;\n",
              "    }\n",
              "</style>\n",
              "<table border=\"1\" class=\"dataframe\">\n",
              "  <thead>\n",
              "    <tr style=\"text-align: right;\">\n",
              "      <th></th>\n",
              "      <th>price</th>\n",
              "      <th>feature1</th>\n",
              "      <th>feature2</th>\n",
              "    </tr>\n",
              "  </thead>\n",
              "  <tbody>\n",
              "    <tr>\n",
              "      <th>0</th>\n",
              "      <td>461.527929</td>\n",
              "      <td>999.787558</td>\n",
              "      <td>999.766096</td>\n",
              "    </tr>\n",
              "    <tr>\n",
              "      <th>1</th>\n",
              "      <td>548.130011</td>\n",
              "      <td>998.861615</td>\n",
              "      <td>1001.042403</td>\n",
              "    </tr>\n",
              "    <tr>\n",
              "      <th>2</th>\n",
              "      <td>410.297162</td>\n",
              "      <td>1000.070267</td>\n",
              "      <td>998.844015</td>\n",
              "    </tr>\n",
              "    <tr>\n",
              "      <th>3</th>\n",
              "      <td>540.382220</td>\n",
              "      <td>999.952251</td>\n",
              "      <td>1000.440940</td>\n",
              "    </tr>\n",
              "    <tr>\n",
              "      <th>4</th>\n",
              "      <td>546.024553</td>\n",
              "      <td>1000.446011</td>\n",
              "      <td>1000.338531</td>\n",
              "    </tr>\n",
              "  </tbody>\n",
              "</table>\n",
              "</div>"
            ],
            "text/plain": [
              "        price     feature1     feature2\n",
              "0  461.527929   999.787558   999.766096\n",
              "1  548.130011   998.861615  1001.042403\n",
              "2  410.297162  1000.070267   998.844015\n",
              "3  540.382220   999.952251  1000.440940\n",
              "4  546.024553  1000.446011  1000.338531"
            ]
          },
          "metadata": {
            "tags": []
          },
          "execution_count": 2
        }
      ]
    },
    {
      "cell_type": "code",
      "metadata": {
        "colab": {
          "base_uri": "https://localhost:8080/",
          "height": 567
        },
        "id": "Dbioraum_izz",
        "outputId": "7c29a3d2-1d04-486e-f100-83ae27ca9d96"
      },
      "source": [
        "sns.pairplot(df)"
      ],
      "execution_count": 3,
      "outputs": [
        {
          "output_type": "execute_result",
          "data": {
            "text/plain": [
              "<seaborn.axisgrid.PairGrid at 0x7fb3d8e7cad0>"
            ]
          },
          "metadata": {
            "tags": []
          },
          "execution_count": 3
        },
        {
          "output_type": "display_data",
          "data": {
            "image/png": "[encoded data removed]",
            "text/plain": [
              "<Figure size 540x540 with 12 Axes>"
            ]
          },
          "metadata": {
            "tags": [],
            "needs_background": "light"
          }
        }
      ]
    },
    {
      "cell_type": "code",
      "metadata": {
        "id": "303vqtWj_-NB"
      },
      "source": [
        "from sklearn.model_selection import train_test_split\n",
        "\n",
        "X = df[['feature1', 'feature2']].values\n",
        "y = df['price'].values"
      ],
      "execution_count": 4,
      "outputs": []
    },
    {
      "cell_type": "code",
      "metadata": {
        "colab": {
          "base_uri": "https://localhost:8080/"
        },
        "id": "tDaQjb1oAmRi",
        "outputId": "b8dd5cf0-b674-481a-bd37-25b8277039fe"
      },
      "source": [
        "X"
      ],
      "execution_count": 5,
      "outputs": [
        {
          "output_type": "execute_result",
          "data": {
            "text/plain": [
              "array([[ 999.78755752,  999.7660962 ],\n",
              "       [ 998.86161491, 1001.04240315],\n",
              "       [1000.07026691,  998.84401463],\n",
              "       ...,\n",
              "       [1001.45164617,  998.84760554],\n",
              "       [1000.77102275,  998.56285086],\n",
              "       [ 999.2322436 , 1001.45140713]])"
            ]
          },
          "metadata": {
            "tags": []
          },
          "execution_count": 5
        }
      ]
    },
    {
      "cell_type": "code",
      "metadata": {
        "id": "KTJjw8hKAtJI"
      },
      "source": [
        "X_train, X_test, y_train, y_test = train_test_split( X, y, test_size=0.33, random_state=42)"
      ],
      "execution_count": 6,
      "outputs": []
    },
    {
      "cell_type": "code",
      "metadata": {
        "colab": {
          "base_uri": "https://localhost:8080/"
        },
        "id": "5nPr-DQcBalp",
        "outputId": "6279665b-05e4-43c1-91b6-af311f1dd825"
      },
      "source": [
        "X_train.shape"
      ],
      "execution_count": 7,
      "outputs": [
        {
          "output_type": "execute_result",
          "data": {
            "text/plain": [
              "(670, 2)"
            ]
          },
          "metadata": {
            "tags": []
          },
          "execution_count": 7
        }
      ]
    },
    {
      "cell_type": "code",
      "metadata": {
        "colab": {
          "base_uri": "https://localhost:8080/"
        },
        "id": "XWkspwCvBcHo",
        "outputId": "8811bb2c-b8b8-4e91-cb7b-2ccdfff24e71"
      },
      "source": [
        "X_test.shape"
      ],
      "execution_count": 8,
      "outputs": [
        {
          "output_type": "execute_result",
          "data": {
            "text/plain": [
              "(330, 2)"
            ]
          },
          "metadata": {
            "tags": []
          },
          "execution_count": 8
        }
      ]
    },
    {
      "cell_type": "code",
      "metadata": {
        "id": "kDUeU4l5BeeQ"
      },
      "source": [
        "from sklearn.preprocessing import MinMaxScaler"
      ],
      "execution_count": 9,
      "outputs": []
    },
    {
      "cell_type": "code",
      "metadata": {
        "colab": {
          "base_uri": "https://localhost:8080/"
        },
        "id": "S4Fu-K8pBwqG",
        "outputId": "468c942a-b229-4ba0-be85-895907365632"
      },
      "source": [
        "scaler = MinMaxScaler()\n",
        "scaler.fit(X_train)"
      ],
      "execution_count": 10,
      "outputs": [
        {
          "output_type": "execute_result",
          "data": {
            "text/plain": [
              "MinMaxScaler(copy=True, feature_range=(0, 1))"
            ]
          },
          "metadata": {
            "tags": []
          },
          "execution_count": 10
        }
      ]
    },
    {
      "cell_type": "code",
      "metadata": {
        "id": "fuKMjd4nCQ40"
      },
      "source": [
        "X_train = scaler.transform(X_train)\n",
        "X_test = scaler.transform(X_test)"
      ],
      "execution_count": 11,
      "outputs": []
    },
    {
      "cell_type": "code",
      "metadata": {
        "colab": {
          "base_uri": "https://localhost:8080/"
        },
        "id": "hpfxF-1aC104",
        "outputId": "2eac85e1-17a8-46d0-ae20-3b47ff76ac78"
      },
      "source": [
        "print(X_train.max())\n",
        "print(X_train.min())"
      ],
      "execution_count": 12,
      "outputs": [
        {
          "output_type": "stream",
          "text": [
            "1.0\n",
            "0.0\n"
          ],
          "name": "stdout"
        }
      ]
    },
    {
      "cell_type": "code",
      "metadata": {
        "id": "qY-Vhp0xC_AH"
      },
      "source": [
        "from tensorflow.keras.models import Sequential\n",
        "from tensorflow.keras.layers import Dense"
      ],
      "execution_count": 13,
      "outputs": []
    },
    {
      "cell_type": "code",
      "metadata": {
        "id": "3OwnT6MMD1wa"
      },
      "source": [
        "# help(Sequential)"
      ],
      "execution_count": 14,
      "outputs": []
    },
    {
      "cell_type": "code",
      "metadata": {
        "id": "15WPbTB6D_50"
      },
      "source": [
        "# model = Sequential([Dense(4,activation='relu'), Dense(2, activation='relu'), Dense(1)])"
      ],
      "execution_count": 15,
      "outputs": []
    },
    {
      "cell_type": "code",
      "metadata": {
        "id": "ndEgt9FBFNKh"
      },
      "source": [
        "#Alternate way \n",
        "\n",
        "model = Sequential()\n",
        "\n",
        "model.add(Dense(4,activation='relu'))\n",
        "model.add(Dense(4,activation='relu'))\n",
        "model.add(Dense(4,activation='relu'))\n",
        "\n",
        "model.add(Dense(1))\n",
        "\n",
        "model.compile(optimizer='rmsprop', loss='mse')"
      ],
      "execution_count": 16,
      "outputs": []
    },
    {
      "cell_type": "code",
      "metadata": {
        "colab": {
          "base_uri": "https://localhost:8080/"
        },
        "id": "UugFN2L7FsXM",
        "outputId": "b3f7f902-d5ab-4b94-9f74-02d2530cb6b1"
      },
      "source": [
        "model.fit(x=X_train, y=y_train, epochs=250)"
      ],
      "execution_count": 17,
      "outputs": [
        {
          "output_type": "stream",
          "text": [
            "Epoch 1/250\n",
            "21/21 [==============================] - 1s 1ms/step - loss: 256481.2344\n",
            "Epoch 2/250\n",
            "21/21 [==============================] - 0s 1ms/step - loss: 256320.9375\n",
            "Epoch 3/250\n",
            "21/21 [==============================] - 0s 1ms/step - loss: 256160.4062\n",
            "Epoch 4/250\n",
            "21/21 [==============================] - 0s 1ms/step - loss: 255985.9531\n",
            "Epoch 5/250\n",
            "21/21 [==============================] - 0s 2ms/step - loss: 255791.4062\n",
            "Epoch 6/250\n",
            "21/21 [==============================] - 0s 1ms/step - loss: 255574.0469\n",
            "Epoch 7/250\n",
            "21/21 [==============================] - 0s 1ms/step - loss: 255328.2656\n",
            "Epoch 8/250\n",
            "21/21 [==============================] - 0s 1ms/step - loss: 255055.6406\n",
            "Epoch 9/250\n",
            "21/21 [==============================] - 0s 1ms/step - loss: 254752.8281\n",
            "Epoch 10/250\n",
            "21/21 [==============================] - 0s 1ms/step - loss: 254416.8594\n",
            "Epoch 11/250\n",
            "21/21 [==============================] - 0s 1ms/step - loss: 254044.7812\n",
            "Epoch 12/250\n",
            "21/21 [==============================] - 0s 2ms/step - loss: 253637.7812\n",
            "Epoch 13/250\n",
            "21/21 [==============================] - 0s 1ms/step - loss: 253188.0156\n",
            "Epoch 14/250\n",
            "21/21 [==============================] - 0s 2ms/step - loss: 252696.1719\n",
            "Epoch 15/250\n",
            "21/21 [==============================] - 0s 1ms/step - loss: 252158.9062\n",
            "Epoch 16/250\n",
            "21/21 [==============================] - 0s 1ms/step - loss: 251576.2812\n",
            "Epoch 17/250\n",
            "21/21 [==============================] - 0s 1ms/step - loss: 250941.9688\n",
            "Epoch 18/250\n",
            "21/21 [==============================] - 0s 1ms/step - loss: 250254.7031\n",
            "Epoch 19/250\n",
            "21/21 [==============================] - 0s 1ms/step - loss: 249513.3594\n",
            "Epoch 20/250\n",
            "21/21 [==============================] - 0s 1ms/step - loss: 248713.0000\n",
            "Epoch 21/250\n",
            "21/21 [==============================] - 0s 1ms/step - loss: 247852.6406\n",
            "Epoch 22/250\n",
            "21/21 [==============================] - 0s 2ms/step - loss: 246927.3281\n",
            "Epoch 23/250\n",
            "21/21 [==============================] - 0s 1ms/step - loss: 245929.8125\n",
            "Epoch 24/250\n",
            "21/21 [==============================] - 0s 1ms/step - loss: 244872.2188\n",
            "Epoch 25/250\n",
            "21/21 [==============================] - 0s 1ms/step - loss: 243734.6875\n",
            "Epoch 26/250\n",
            "21/21 [==============================] - 0s 1ms/step - loss: 242525.3281\n",
            "Epoch 27/250\n",
            "21/21 [==============================] - 0s 2ms/step - loss: 241237.0312\n",
            "Epoch 28/250\n",
            "21/21 [==============================] - 0s 1ms/step - loss: 239863.0625\n",
            "Epoch 29/250\n",
            "21/21 [==============================] - 0s 1ms/step - loss: 238405.7500\n",
            "Epoch 30/250\n",
            "21/21 [==============================] - 0s 1ms/step - loss: 236863.0625\n",
            "Epoch 31/250\n",
            "21/21 [==============================] - 0s 2ms/step - loss: 235235.2656\n",
            "Epoch 32/250\n",
            "21/21 [==============================] - 0s 2ms/step - loss: 233514.5781\n",
            "Epoch 33/250\n",
            "21/21 [==============================] - 0s 2ms/step - loss: 231692.6094\n",
            "Epoch 34/250\n",
            "21/21 [==============================] - 0s 1ms/step - loss: 229768.2344\n",
            "Epoch 35/250\n",
            "21/21 [==============================] - 0s 1ms/step - loss: 227752.1406\n",
            "Epoch 36/250\n",
            "21/21 [==============================] - 0s 2ms/step - loss: 225637.1094\n",
            "Epoch 37/250\n",
            "21/21 [==============================] - 0s 2ms/step - loss: 223405.1406\n",
            "Epoch 38/250\n",
            "21/21 [==============================] - 0s 1ms/step - loss: 221054.9688\n",
            "Epoch 39/250\n",
            "21/21 [==============================] - 0s 1ms/step - loss: 218615.0625\n",
            "Epoch 40/250\n",
            "21/21 [==============================] - 0s 1ms/step - loss: 216056.4375\n",
            "Epoch 41/250\n",
            "21/21 [==============================] - 0s 1ms/step - loss: 213387.9844\n",
            "Epoch 42/250\n",
            "21/21 [==============================] - 0s 2ms/step - loss: 210600.8906\n",
            "Epoch 43/250\n",
            "21/21 [==============================] - 0s 1ms/step - loss: 207703.3594\n",
            "Epoch 44/250\n",
            "21/21 [==============================] - 0s 2ms/step - loss: 204658.7656\n",
            "Epoch 45/250\n",
            "21/21 [==============================] - 0s 1ms/step - loss: 201520.7188\n",
            "Epoch 46/250\n",
            "21/21 [==============================] - 0s 2ms/step - loss: 198260.9375\n",
            "Epoch 47/250\n",
            "21/21 [==============================] - 0s 1ms/step - loss: 194868.5000\n",
            "Epoch 48/250\n",
            "21/21 [==============================] - 0s 1ms/step - loss: 191348.4375\n",
            "Epoch 49/250\n",
            "21/21 [==============================] - 0s 1ms/step - loss: 187728.1562\n",
            "Epoch 50/250\n",
            "21/21 [==============================] - 0s 1ms/step - loss: 183975.5781\n",
            "Epoch 51/250\n",
            "21/21 [==============================] - 0s 1ms/step - loss: 180101.5000\n",
            "Epoch 52/250\n",
            "21/21 [==============================] - 0s 1ms/step - loss: 176083.4062\n",
            "Epoch 53/250\n",
            "21/21 [==============================] - 0s 1ms/step - loss: 171979.0938\n",
            "Epoch 54/250\n",
            "21/21 [==============================] - 0s 2ms/step - loss: 167741.2500\n",
            "Epoch 55/250\n",
            "21/21 [==============================] - 0s 1ms/step - loss: 163387.9219\n",
            "Epoch 56/250\n",
            "21/21 [==============================] - 0s 1ms/step - loss: 158910.9844\n",
            "Epoch 57/250\n",
            "21/21 [==============================] - 0s 1ms/step - loss: 154327.0625\n",
            "Epoch 58/250\n",
            "21/21 [==============================] - 0s 2ms/step - loss: 149642.1094\n",
            "Epoch 59/250\n",
            "21/21 [==============================] - 0s 1ms/step - loss: 144851.9219\n",
            "Epoch 60/250\n",
            "21/21 [==============================] - 0s 1ms/step - loss: 139970.5000\n",
            "Epoch 61/250\n",
            "21/21 [==============================] - 0s 1ms/step - loss: 134980.4531\n",
            "Epoch 62/250\n",
            "21/21 [==============================] - 0s 1ms/step - loss: 129926.1875\n",
            "Epoch 63/250\n",
            "21/21 [==============================] - 0s 1ms/step - loss: 124775.9531\n",
            "Epoch 64/250\n",
            "21/21 [==============================] - 0s 1ms/step - loss: 119562.4453\n",
            "Epoch 65/250\n",
            "21/21 [==============================] - 0s 2ms/step - loss: 114294.3906\n",
            "Epoch 66/250\n",
            "21/21 [==============================] - 0s 1ms/step - loss: 108928.0391\n",
            "Epoch 67/250\n",
            "21/21 [==============================] - 0s 1ms/step - loss: 103551.5547\n",
            "Epoch 68/250\n",
            "21/21 [==============================] - 0s 2ms/step - loss: 98114.9844\n",
            "Epoch 69/250\n",
            "21/21 [==============================] - 0s 1ms/step - loss: 92645.6172\n",
            "Epoch 70/250\n",
            "21/21 [==============================] - 0s 1ms/step - loss: 87187.5469\n",
            "Epoch 71/250\n",
            "21/21 [==============================] - 0s 2ms/step - loss: 81717.6328\n",
            "Epoch 72/250\n",
            "21/21 [==============================] - 0s 2ms/step - loss: 76270.9219\n",
            "Epoch 73/250\n",
            "21/21 [==============================] - 0s 1ms/step - loss: 70866.0391\n",
            "Epoch 74/250\n",
            "21/21 [==============================] - 0s 1ms/step - loss: 65470.2969\n",
            "Epoch 75/250\n",
            "21/21 [==============================] - 0s 1ms/step - loss: 60190.1836\n",
            "Epoch 76/250\n",
            "21/21 [==============================] - 0s 1ms/step - loss: 55001.9219\n",
            "Epoch 77/250\n",
            "21/21 [==============================] - 0s 1ms/step - loss: 49875.0547\n",
            "Epoch 78/250\n",
            "21/21 [==============================] - 0s 1ms/step - loss: 44878.7852\n",
            "Epoch 79/250\n",
            "21/21 [==============================] - 0s 1ms/step - loss: 40039.9102\n",
            "Epoch 80/250\n",
            "21/21 [==============================] - 0s 2ms/step - loss: 35352.8125\n",
            "Epoch 81/250\n",
            "21/21 [==============================] - 0s 1ms/step - loss: 30881.3906\n",
            "Epoch 82/250\n",
            "21/21 [==============================] - 0s 1ms/step - loss: 26639.6367\n",
            "Epoch 83/250\n",
            "21/21 [==============================] - 0s 1ms/step - loss: 22642.8594\n",
            "Epoch 84/250\n",
            "21/21 [==============================] - 0s 1ms/step - loss: 18877.0723\n",
            "Epoch 85/250\n",
            "21/21 [==============================] - 0s 1ms/step - loss: 15441.5684\n",
            "Epoch 86/250\n",
            "21/21 [==============================] - 0s 1ms/step - loss: 12394.0312\n",
            "Epoch 87/250\n",
            "21/21 [==============================] - 0s 1ms/step - loss: 9672.3887\n",
            "Epoch 88/250\n",
            "21/21 [==============================] - 0s 1ms/step - loss: 7341.9702\n",
            "Epoch 89/250\n",
            "21/21 [==============================] - 0s 1ms/step - loss: 5442.0078\n",
            "Epoch 90/250\n",
            "21/21 [==============================] - 0s 2ms/step - loss: 3967.4514\n",
            "Epoch 91/250\n",
            "21/21 [==============================] - 0s 1ms/step - loss: 2972.4592\n",
            "Epoch 92/250\n",
            "21/21 [==============================] - 0s 1ms/step - loss: 2403.4988\n",
            "Epoch 93/250\n",
            "21/21 [==============================] - 0s 1ms/step - loss: 2170.1238\n",
            "Epoch 94/250\n",
            "21/21 [==============================] - 0s 1ms/step - loss: 2116.0112\n",
            "Epoch 95/250\n",
            "21/21 [==============================] - 0s 1ms/step - loss: 2086.4648\n",
            "Epoch 96/250\n",
            "21/21 [==============================] - 0s 2ms/step - loss: 2059.8708\n",
            "Epoch 97/250\n",
            "21/21 [==============================] - 0s 1ms/step - loss: 2033.0304\n",
            "Epoch 98/250\n",
            "21/21 [==============================] - 0s 1ms/step - loss: 2007.9927\n",
            "Epoch 99/250\n",
            "21/21 [==============================] - 0s 1ms/step - loss: 1981.9125\n",
            "Epoch 100/250\n",
            "21/21 [==============================] - 0s 2ms/step - loss: 1949.9983\n",
            "Epoch 101/250\n",
            "21/21 [==============================] - 0s 2ms/step - loss: 1921.3188\n",
            "Epoch 102/250\n",
            "21/21 [==============================] - 0s 1ms/step - loss: 1891.6383\n",
            "Epoch 103/250\n",
            "21/21 [==============================] - 0s 2ms/step - loss: 1860.0918\n",
            "Epoch 104/250\n",
            "21/21 [==============================] - 0s 1ms/step - loss: 1828.8459\n",
            "Epoch 105/250\n",
            "21/21 [==============================] - 0s 2ms/step - loss: 1796.5707\n",
            "Epoch 106/250\n",
            "21/21 [==============================] - 0s 2ms/step - loss: 1770.2122\n",
            "Epoch 107/250\n",
            "21/21 [==============================] - 0s 1ms/step - loss: 1745.6334\n",
            "Epoch 108/250\n",
            "21/21 [==============================] - 0s 1ms/step - loss: 1714.9810\n",
            "Epoch 109/250\n",
            "21/21 [==============================] - 0s 1ms/step - loss: 1691.4792\n",
            "Epoch 110/250\n",
            "21/21 [==============================] - 0s 2ms/step - loss: 1665.4181\n",
            "Epoch 111/250\n",
            "21/21 [==============================] - 0s 2ms/step - loss: 1641.1832\n",
            "Epoch 112/250\n",
            "21/21 [==============================] - 0s 2ms/step - loss: 1610.5718\n",
            "Epoch 113/250\n",
            "21/21 [==============================] - 0s 2ms/step - loss: 1584.4506\n",
            "Epoch 114/250\n",
            "21/21 [==============================] - 0s 2ms/step - loss: 1555.4298\n",
            "Epoch 115/250\n",
            "21/21 [==============================] - 0s 2ms/step - loss: 1530.9581\n",
            "Epoch 116/250\n",
            "21/21 [==============================] - 0s 2ms/step - loss: 1504.6913\n",
            "Epoch 117/250\n",
            "21/21 [==============================] - 0s 1ms/step - loss: 1479.4037\n",
            "Epoch 118/250\n",
            "21/21 [==============================] - 0s 1ms/step - loss: 1454.4686\n",
            "Epoch 119/250\n",
            "21/21 [==============================] - 0s 1ms/step - loss: 1426.9668\n",
            "Epoch 120/250\n",
            "21/21 [==============================] - 0s 2ms/step - loss: 1401.6718\n",
            "Epoch 121/250\n",
            "21/21 [==============================] - 0s 2ms/step - loss: 1375.9647\n",
            "Epoch 122/250\n",
            "21/21 [==============================] - 0s 2ms/step - loss: 1352.0397\n",
            "Epoch 123/250\n",
            "21/21 [==============================] - 0s 2ms/step - loss: 1326.4362\n",
            "Epoch 124/250\n",
            "21/21 [==============================] - 0s 2ms/step - loss: 1301.0150\n",
            "Epoch 125/250\n",
            "21/21 [==============================] - 0s 2ms/step - loss: 1275.6525\n",
            "Epoch 126/250\n",
            "21/21 [==============================] - 0s 1ms/step - loss: 1250.6212\n",
            "Epoch 127/250\n",
            "21/21 [==============================] - 0s 1ms/step - loss: 1226.0227\n",
            "Epoch 128/250\n",
            "21/21 [==============================] - 0s 1ms/step - loss: 1202.3392\n",
            "Epoch 129/250\n",
            "21/21 [==============================] - 0s 2ms/step - loss: 1179.3763\n",
            "Epoch 130/250\n",
            "21/21 [==============================] - 0s 2ms/step - loss: 1154.6766\n",
            "Epoch 131/250\n",
            "21/21 [==============================] - 0s 1ms/step - loss: 1130.6536\n",
            "Epoch 132/250\n",
            "21/21 [==============================] - 0s 1ms/step - loss: 1110.2522\n",
            "Epoch 133/250\n",
            "21/21 [==============================] - 0s 1ms/step - loss: 1084.5531\n",
            "Epoch 134/250\n",
            "21/21 [==============================] - 0s 2ms/step - loss: 1060.8942\n",
            "Epoch 135/250\n",
            "21/21 [==============================] - 0s 2ms/step - loss: 1036.7804\n",
            "Epoch 136/250\n",
            "21/21 [==============================] - 0s 2ms/step - loss: 1010.4140\n",
            "Epoch 137/250\n",
            "21/21 [==============================] - 0s 2ms/step - loss: 989.5400\n",
            "Epoch 138/250\n",
            "21/21 [==============================] - 0s 1ms/step - loss: 966.0163\n",
            "Epoch 139/250\n",
            "21/21 [==============================] - 0s 1ms/step - loss: 943.7023\n",
            "Epoch 140/250\n",
            "21/21 [==============================] - 0s 2ms/step - loss: 919.8054\n",
            "Epoch 141/250\n",
            "21/21 [==============================] - 0s 1ms/step - loss: 894.5215\n",
            "Epoch 142/250\n",
            "21/21 [==============================] - 0s 1ms/step - loss: 871.3738\n",
            "Epoch 143/250\n",
            "21/21 [==============================] - 0s 1ms/step - loss: 848.2979\n",
            "Epoch 144/250\n",
            "21/21 [==============================] - 0s 2ms/step - loss: 828.8680\n",
            "Epoch 145/250\n",
            "21/21 [==============================] - 0s 1ms/step - loss: 806.4997\n",
            "Epoch 146/250\n",
            "21/21 [==============================] - 0s 2ms/step - loss: 783.8263\n",
            "Epoch 147/250\n",
            "21/21 [==============================] - 0s 2ms/step - loss: 764.6544\n",
            "Epoch 148/250\n",
            "21/21 [==============================] - 0s 2ms/step - loss: 743.2279\n",
            "Epoch 149/250\n",
            "21/21 [==============================] - 0s 2ms/step - loss: 722.5127\n",
            "Epoch 150/250\n",
            "21/21 [==============================] - 0s 2ms/step - loss: 702.0721\n",
            "Epoch 151/250\n",
            "21/21 [==============================] - 0s 1ms/step - loss: 681.8267\n",
            "Epoch 152/250\n",
            "21/21 [==============================] - 0s 2ms/step - loss: 659.3908\n",
            "Epoch 153/250\n",
            "21/21 [==============================] - 0s 1ms/step - loss: 638.6547\n",
            "Epoch 154/250\n",
            "21/21 [==============================] - 0s 1ms/step - loss: 621.4675\n",
            "Epoch 155/250\n",
            "21/21 [==============================] - 0s 1ms/step - loss: 600.5682\n",
            "Epoch 156/250\n",
            "21/21 [==============================] - 0s 1ms/step - loss: 581.9094\n",
            "Epoch 157/250\n",
            "21/21 [==============================] - 0s 2ms/step - loss: 562.7716\n",
            "Epoch 158/250\n",
            "21/21 [==============================] - 0s 2ms/step - loss: 546.3504\n",
            "Epoch 159/250\n",
            "21/21 [==============================] - 0s 2ms/step - loss: 528.5403\n",
            "Epoch 160/250\n",
            "21/21 [==============================] - 0s 1ms/step - loss: 512.1047\n",
            "Epoch 161/250\n",
            "21/21 [==============================] - 0s 2ms/step - loss: 492.4001\n",
            "Epoch 162/250\n",
            "21/21 [==============================] - 0s 2ms/step - loss: 474.7651\n",
            "Epoch 163/250\n",
            "21/21 [==============================] - 0s 1ms/step - loss: 459.4651\n",
            "Epoch 164/250\n",
            "21/21 [==============================] - 0s 2ms/step - loss: 443.1021\n",
            "Epoch 165/250\n",
            "21/21 [==============================] - 0s 1ms/step - loss: 425.7361\n",
            "Epoch 166/250\n",
            "21/21 [==============================] - 0s 2ms/step - loss: 409.2367\n",
            "Epoch 167/250\n",
            "21/21 [==============================] - 0s 2ms/step - loss: 391.8167\n",
            "Epoch 168/250\n",
            "21/21 [==============================] - 0s 2ms/step - loss: 377.3380\n",
            "Epoch 169/250\n",
            "21/21 [==============================] - 0s 1ms/step - loss: 362.1689\n",
            "Epoch 170/250\n",
            "21/21 [==============================] - 0s 2ms/step - loss: 347.2854\n",
            "Epoch 171/250\n",
            "21/21 [==============================] - 0s 1ms/step - loss: 333.6247\n",
            "Epoch 172/250\n",
            "21/21 [==============================] - 0s 1ms/step - loss: 318.5126\n",
            "Epoch 173/250\n",
            "21/21 [==============================] - 0s 2ms/step - loss: 303.6810\n",
            "Epoch 174/250\n",
            "21/21 [==============================] - 0s 2ms/step - loss: 287.8925\n",
            "Epoch 175/250\n",
            "21/21 [==============================] - 0s 2ms/step - loss: 272.6695\n",
            "Epoch 176/250\n",
            "21/21 [==============================] - 0s 2ms/step - loss: 260.7335\n",
            "Epoch 177/250\n",
            "21/21 [==============================] - 0s 1ms/step - loss: 248.1580\n",
            "Epoch 178/250\n",
            "21/21 [==============================] - 0s 1ms/step - loss: 237.0850\n",
            "Epoch 179/250\n",
            "21/21 [==============================] - 0s 1ms/step - loss: 223.3929\n",
            "Epoch 180/250\n",
            "21/21 [==============================] - 0s 1ms/step - loss: 213.1398\n",
            "Epoch 181/250\n",
            "21/21 [==============================] - 0s 2ms/step - loss: 201.5067\n",
            "Epoch 182/250\n",
            "21/21 [==============================] - 0s 1ms/step - loss: 191.3145\n",
            "Epoch 183/250\n",
            "21/21 [==============================] - 0s 2ms/step - loss: 181.2271\n",
            "Epoch 184/250\n",
            "21/21 [==============================] - 0s 2ms/step - loss: 170.6496\n",
            "Epoch 185/250\n",
            "21/21 [==============================] - 0s 2ms/step - loss: 160.2418\n",
            "Epoch 186/250\n",
            "21/21 [==============================] - 0s 2ms/step - loss: 148.2672\n",
            "Epoch 187/250\n",
            "21/21 [==============================] - 0s 2ms/step - loss: 140.1403\n",
            "Epoch 188/250\n",
            "21/21 [==============================] - 0s 2ms/step - loss: 132.5304\n",
            "Epoch 189/250\n",
            "21/21 [==============================] - 0s 2ms/step - loss: 123.2984\n",
            "Epoch 190/250\n",
            "21/21 [==============================] - 0s 2ms/step - loss: 114.6572\n",
            "Epoch 191/250\n",
            "21/21 [==============================] - 0s 2ms/step - loss: 106.4596\n",
            "Epoch 192/250\n",
            "21/21 [==============================] - 0s 1ms/step - loss: 99.6077\n",
            "Epoch 193/250\n",
            "21/21 [==============================] - 0s 2ms/step - loss: 91.7343\n",
            "Epoch 194/250\n",
            "21/21 [==============================] - 0s 2ms/step - loss: 85.5900\n",
            "Epoch 195/250\n",
            "21/21 [==============================] - 0s 1ms/step - loss: 78.4653\n",
            "Epoch 196/250\n",
            "21/21 [==============================] - 0s 1ms/step - loss: 72.0108\n",
            "Epoch 197/250\n",
            "21/21 [==============================] - 0s 1ms/step - loss: 65.9078\n",
            "Epoch 198/250\n",
            "21/21 [==============================] - 0s 2ms/step - loss: 61.0579\n",
            "Epoch 199/250\n",
            "21/21 [==============================] - 0s 1ms/step - loss: 56.8385\n",
            "Epoch 200/250\n",
            "21/21 [==============================] - 0s 2ms/step - loss: 53.1177\n",
            "Epoch 201/250\n",
            "21/21 [==============================] - 0s 2ms/step - loss: 50.6885\n",
            "Epoch 202/250\n",
            "21/21 [==============================] - 0s 2ms/step - loss: 47.1853\n",
            "Epoch 203/250\n",
            "21/21 [==============================] - 0s 2ms/step - loss: 44.5214\n",
            "Epoch 204/250\n",
            "21/21 [==============================] - 0s 1ms/step - loss: 41.4929\n",
            "Epoch 205/250\n",
            "21/21 [==============================] - 0s 2ms/step - loss: 38.9824\n",
            "Epoch 206/250\n",
            "21/21 [==============================] - 0s 2ms/step - loss: 37.4489\n",
            "Epoch 207/250\n",
            "21/21 [==============================] - 0s 2ms/step - loss: 35.0524\n",
            "Epoch 208/250\n",
            "21/21 [==============================] - 0s 2ms/step - loss: 33.5716\n",
            "Epoch 209/250\n",
            "21/21 [==============================] - 0s 2ms/step - loss: 32.1131\n",
            "Epoch 210/250\n",
            "21/21 [==============================] - 0s 1ms/step - loss: 30.8252\n",
            "Epoch 211/250\n",
            "21/21 [==============================] - 0s 2ms/step - loss: 29.6316\n",
            "Epoch 212/250\n",
            "21/21 [==============================] - 0s 2ms/step - loss: 29.1034\n",
            "Epoch 213/250\n",
            "21/21 [==============================] - 0s 2ms/step - loss: 28.1887\n",
            "Epoch 214/250\n",
            "21/21 [==============================] - 0s 2ms/step - loss: 27.3308\n",
            "Epoch 215/250\n",
            "21/21 [==============================] - 0s 2ms/step - loss: 27.2446\n",
            "Epoch 216/250\n",
            "21/21 [==============================] - 0s 2ms/step - loss: 26.6487\n",
            "Epoch 217/250\n",
            "21/21 [==============================] - 0s 1ms/step - loss: 26.1431\n",
            "Epoch 218/250\n",
            "21/21 [==============================] - 0s 2ms/step - loss: 25.9877\n",
            "Epoch 219/250\n",
            "21/21 [==============================] - 0s 2ms/step - loss: 25.8363\n",
            "Epoch 220/250\n",
            "21/21 [==============================] - 0s 2ms/step - loss: 25.7575\n",
            "Epoch 221/250\n",
            "21/21 [==============================] - 0s 2ms/step - loss: 25.4712\n",
            "Epoch 222/250\n",
            "21/21 [==============================] - 0s 1ms/step - loss: 25.2016\n",
            "Epoch 223/250\n",
            "21/21 [==============================] - 0s 2ms/step - loss: 25.0078\n",
            "Epoch 224/250\n",
            "21/21 [==============================] - 0s 1ms/step - loss: 24.9115\n",
            "Epoch 225/250\n",
            "21/21 [==============================] - 0s 2ms/step - loss: 24.9494\n",
            "Epoch 226/250\n",
            "21/21 [==============================] - 0s 2ms/step - loss: 24.9649\n",
            "Epoch 227/250\n",
            "21/21 [==============================] - 0s 1ms/step - loss: 24.9650\n",
            "Epoch 228/250\n",
            "21/21 [==============================] - 0s 2ms/step - loss: 24.6865\n",
            "Epoch 229/250\n",
            "21/21 [==============================] - 0s 2ms/step - loss: 24.9755\n",
            "Epoch 230/250\n",
            "21/21 [==============================] - 0s 2ms/step - loss: 24.5417\n",
            "Epoch 231/250\n",
            "21/21 [==============================] - 0s 2ms/step - loss: 24.5437\n",
            "Epoch 232/250\n",
            "21/21 [==============================] - 0s 2ms/step - loss: 24.9193\n",
            "Epoch 233/250\n",
            "21/21 [==============================] - 0s 2ms/step - loss: 24.5980\n",
            "Epoch 234/250\n",
            "21/21 [==============================] - 0s 1ms/step - loss: 24.8069\n",
            "Epoch 235/250\n",
            "21/21 [==============================] - 0s 1ms/step - loss: 24.4927\n",
            "Epoch 236/250\n",
            "21/21 [==============================] - 0s 2ms/step - loss: 24.6379\n",
            "Epoch 237/250\n",
            "21/21 [==============================] - 0s 1ms/step - loss: 24.6610\n",
            "Epoch 238/250\n",
            "21/21 [==============================] - 0s 1ms/step - loss: 24.6984\n",
            "Epoch 239/250\n",
            "21/21 [==============================] - 0s 2ms/step - loss: 24.5120\n",
            "Epoch 240/250\n",
            "21/21 [==============================] - 0s 1ms/step - loss: 24.6713\n",
            "Epoch 241/250\n",
            "21/21 [==============================] - 0s 2ms/step - loss: 24.6314\n",
            "Epoch 242/250\n",
            "21/21 [==============================] - 0s 2ms/step - loss: 24.4963\n",
            "Epoch 243/250\n",
            "21/21 [==============================] - 0s 2ms/step - loss: 24.5831\n",
            "Epoch 244/250\n",
            "21/21 [==============================] - 0s 1ms/step - loss: 24.8647\n",
            "Epoch 245/250\n",
            "21/21 [==============================] - 0s 2ms/step - loss: 24.5469\n",
            "Epoch 246/250\n",
            "21/21 [==============================] - 0s 1ms/step - loss: 24.4993\n",
            "Epoch 247/250\n",
            "21/21 [==============================] - 0s 2ms/step - loss: 24.6734\n",
            "Epoch 248/250\n",
            "21/21 [==============================] - 0s 2ms/step - loss: 24.6791\n",
            "Epoch 249/250\n",
            "21/21 [==============================] - 0s 1ms/step - loss: 24.5422\n",
            "Epoch 250/250\n",
            "21/21 [==============================] - 0s 2ms/step - loss: 24.5915\n"
          ],
          "name": "stdout"
        },
        {
          "output_type": "execute_result",
          "data": {
            "text/plain": [
              "<tensorflow.python.keras.callbacks.History at 0x7fb38881c590>"
            ]
          },
          "metadata": {
            "tags": []
          },
          "execution_count": 17
        }
      ]
    },
    {
      "cell_type": "code",
      "metadata": {
        "id": "J7-W_y94MMmF"
      },
      "source": [
        "loss_df = pd.DataFrame(model.history.history)\n",
        "#loss history"
      ],
      "execution_count": 18,
      "outputs": []
    },
    {
      "cell_type": "code",
      "metadata": {
        "colab": {
          "base_uri": "https://localhost:8080/",
          "height": 282
        },
        "id": "7fcNzeMbMmui",
        "outputId": "874b75ff-6692-4754-abe7-30fdfcf39ca3"
      },
      "source": [
        "loss_df.plot()"
      ],
      "execution_count": 19,
      "outputs": [
        {
          "output_type": "execute_result",
          "data": {
            "text/plain": [
              "<matplotlib.axes._subplots.AxesSubplot at 0x7fb3860696d0>"
            ]
          },
          "metadata": {
            "tags": []
          },
          "execution_count": 19
        },
        {
          "output_type": "display_data",
          "data": {
            "image/png": "[encoded data removed]",
            "text/plain": [
              "<Figure size 432x288 with 1 Axes>"
            ]
          },
          "metadata": {
            "tags": [],
            "needs_background": "light"
          }
        }
      ]
    },
    {
      "cell_type": "code",
      "metadata": {
        "colab": {
          "base_uri": "https://localhost:8080/"
        },
        "id": "iznmomIINZLW",
        "outputId": "f84df90e-c415-480c-9bb5-d7b9be59a43f"
      },
      "source": [
        "model.evaluate(X_test, y_test, verbose=0)\n",
        "#mean squarred error, models loss on test sets"
      ],
      "execution_count": 20,
      "outputs": [
        {
          "output_type": "execute_result",
          "data": {
            "text/plain": [
              "24.28278350830078"
            ]
          },
          "metadata": {
            "tags": []
          },
          "execution_count": 20
        }
      ]
    },
    {
      "cell_type": "code",
      "metadata": {
        "colab": {
          "base_uri": "https://localhost:8080/"
        },
        "id": "zK2Z6Hm2Oequ",
        "outputId": "1899812c-d648-4c30-d151-8e2de16b8c66"
      },
      "source": [
        "model.evaluate(X_train, y_train, verbose=0)"
      ],
      "execution_count": 21,
      "outputs": [
        {
          "output_type": "execute_result",
          "data": {
            "text/plain": [
              "24.06178855895996"
            ]
          },
          "metadata": {
            "tags": []
          },
          "execution_count": 21
        }
      ]
    },
    {
      "cell_type": "code",
      "metadata": {
        "colab": {
          "base_uri": "https://localhost:8080/"
        },
        "id": "zUntLcNIOoue",
        "outputId": "96ff3744-23c8-4e17-b45d-d5e79e714007"
      },
      "source": [
        "test_predictions = model.predict(X_test)\n",
        "test_predictions"
      ],
      "execution_count": 27,
      "outputs": [
        {
          "output_type": "execute_result",
          "data": {
            "text/plain": [
              "array([[405.42657],\n",
              "       [623.62787],\n",
              "       [592.2289 ],\n",
              "       [572.3217 ],\n",
              "       [366.75397],\n",
              "       [579.27637],\n",
              "       [515.15735],\n",
              "       [459.2358 ],\n",
              "       [549.34595],\n",
              "       [447.6512 ],\n",
              "       [611.87695],\n",
              "       [549.0588 ],\n",
              "       [419.23315],\n",
              "       [409.00406],\n",
              "       [651.3326 ],\n",
              "       [437.43146],\n",
              "       [508.57306],\n",
              "       [660.0051 ],\n",
              "       [662.6604 ],\n",
              "       [565.64215],\n",
              "       [334.3763 ],\n",
              "       [444.9616 ],\n",
              "       [382.66547],\n",
              "       [378.8983 ],\n",
              "       [566.6958 ],\n",
              "       [610.6794 ],\n",
              "       [532.4984 ],\n",
              "       [427.99307],\n",
              "       [655.52094],\n",
              "       [414.2198 ],\n",
              "       [442.76813],\n",
              "       [485.24734],\n",
              "       [438.5447 ],\n",
              "       [681.9203 ],\n",
              "       [424.89594],\n",
              "       [417.8172 ],\n",
              "       [502.05173],\n",
              "       [550.581  ],\n",
              "       [509.84125],\n",
              "       [395.48883],\n",
              "       [618.6828 ],\n",
              "       [416.76538],\n",
              "       [604.5438 ],\n",
              "       [446.0938 ],\n",
              "       [502.10464],\n",
              "       [581.82275],\n",
              "       [669.08624],\n",
              "       [490.52432],\n",
              "       [318.7391 ],\n",
              "       [485.54596],\n",
              "       [517.3782 ],\n",
              "       [381.93802],\n",
              "       [542.0219 ],\n",
              "       [408.73172],\n",
              "       [641.60706],\n",
              "       [491.1941 ],\n",
              "       [628.0265 ],\n",
              "       [627.09595],\n",
              "       [447.19992],\n",
              "       [484.8206 ],\n",
              "       [491.2529 ],\n",
              "       [474.665  ],\n",
              "       [682.8665 ],\n",
              "       [403.42477],\n",
              "       [701.2093 ],\n",
              "       [586.4954 ],\n",
              "       [583.2215 ],\n",
              "       [537.96783],\n",
              "       [484.6965 ],\n",
              "       [516.67194],\n",
              "       [361.37347],\n",
              "       [540.86426],\n",
              "       [570.7297 ],\n",
              "       [528.5752 ],\n",
              "       [453.85077],\n",
              "       [531.25446],\n",
              "       [507.3293 ],\n",
              "       [443.4635 ],\n",
              "       [543.47516],\n",
              "       [640.8451 ],\n",
              "       [466.13226],\n",
              "       [567.3643 ],\n",
              "       [690.84656],\n",
              "       [458.8617 ],\n",
              "       [708.9813 ],\n",
              "       [472.82132],\n",
              "       [403.42252],\n",
              "       [585.20294],\n",
              "       [436.89325],\n",
              "       [489.08655],\n",
              "       [617.13153],\n",
              "       [439.61136],\n",
              "       [455.45502],\n",
              "       [435.39175],\n",
              "       [507.0273 ],\n",
              "       [608.5419 ],\n",
              "       [321.78717],\n",
              "       [436.40543],\n",
              "       [536.4551 ],\n",
              "       [518.7481 ],\n",
              "       [605.1458 ],\n",
              "       [525.5603 ],\n",
              "       [334.29324],\n",
              "       [576.2705 ],\n",
              "       [431.91458],\n",
              "       [562.6647 ],\n",
              "       [513.5228 ],\n",
              "       [391.2271 ],\n",
              "       [566.35376],\n",
              "       [454.93143],\n",
              "       [448.61575],\n",
              "       [641.05035],\n",
              "       [524.49286],\n",
              "       [550.7984 ],\n",
              "       [417.83157],\n",
              "       [478.86554],\n",
              "       [586.62427],\n",
              "       [667.45746],\n",
              "       [700.5362 ],\n",
              "       [659.47516],\n",
              "       [560.67285],\n",
              "       [503.29614],\n",
              "       [390.49762],\n",
              "       [281.5084 ],\n",
              "       [479.7407 ],\n",
              "       [616.4692 ],\n",
              "       [373.4643 ],\n",
              "       [512.37976],\n",
              "       [511.14362],\n",
              "       [493.6073 ],\n",
              "       [480.58502],\n",
              "       [423.92566],\n",
              "       [493.5797 ],\n",
              "       [471.5993 ],\n",
              "       [600.5497 ],\n",
              "       [573.6904 ],\n",
              "       [415.10254],\n",
              "       [630.7407 ],\n",
              "       [466.50208],\n",
              "       [564.4466 ],\n",
              "       [405.82846],\n",
              "       [532.2899 ],\n",
              "       [572.74207],\n",
              "       [357.22916],\n",
              "       [549.94635],\n",
              "       [603.45605],\n",
              "       [384.44827],\n",
              "       [542.5041 ],\n",
              "       [562.7037 ],\n",
              "       [453.01938],\n",
              "       [632.2989 ],\n",
              "       [372.4006 ],\n",
              "       [474.37964],\n",
              "       [528.983  ],\n",
              "       [372.45047],\n",
              "       [461.36655],\n",
              "       [436.44644],\n",
              "       [498.61768],\n",
              "       [346.271  ],\n",
              "       [395.43692],\n",
              "       [604.6837 ],\n",
              "       [506.77634],\n",
              "       [468.74344],\n",
              "       [490.49323],\n",
              "       [535.3979 ],\n",
              "       [344.65366],\n",
              "       [512.44885],\n",
              "       [250.97911],\n",
              "       [504.20987],\n",
              "       [541.21387],\n",
              "       [489.49567],\n",
              "       [471.22034],\n",
              "       [392.69434],\n",
              "       [416.3978 ],\n",
              "       [549.68915],\n",
              "       [475.92032],\n",
              "       [580.0526 ],\n",
              "       [489.8947 ],\n",
              "       [601.0847 ],\n",
              "       [547.1118 ],\n",
              "       [542.07886],\n",
              "       [500.70557],\n",
              "       [645.9292 ],\n",
              "       [560.52747],\n",
              "       [578.04877],\n",
              "       [444.26837],\n",
              "       [415.66214],\n",
              "       [420.1753 ],\n",
              "       [569.2343 ],\n",
              "       [609.11206],\n",
              "       [437.89566],\n",
              "       [488.09784],\n",
              "       [587.8553 ],\n",
              "       [525.49927],\n",
              "       [357.51666],\n",
              "       [645.5102 ],\n",
              "       [528.1508 ],\n",
              "       [337.37   ],\n",
              "       [492.8167 ],\n",
              "       [410.29962],\n",
              "       [606.70355],\n",
              "       [346.6915 ],\n",
              "       [522.5389 ],\n",
              "       [404.83414],\n",
              "       [258.586  ],\n",
              "       [520.0169 ],\n",
              "       [341.05612],\n",
              "       [362.19775],\n",
              "       [576.52905],\n",
              "       [416.8179 ],\n",
              "       [551.0995 ],\n",
              "       [521.20294],\n",
              "       [510.8764 ],\n",
              "       [324.9123 ],\n",
              "       [404.29248],\n",
              "       [602.50146],\n",
              "       [617.9586 ],\n",
              "       [603.3696 ],\n",
              "       [566.4033 ],\n",
              "       [473.5549 ],\n",
              "       [460.5012 ],\n",
              "       [508.55386],\n",
              "       [446.03973],\n",
              "       [511.4376 ],\n",
              "       [502.4992 ],\n",
              "       [400.28375],\n",
              "       [605.6308 ],\n",
              "       [258.30966],\n",
              "       [628.3511 ],\n",
              "       [589.2437 ],\n",
              "       [327.30835],\n",
              "       [479.67523],\n",
              "       [595.45056],\n",
              "       [378.5457 ],\n",
              "       [460.28598],\n",
              "       [325.17108],\n",
              "       [518.8148 ],\n",
              "       [409.7629 ],\n",
              "       [556.3626 ],\n",
              "       [641.9862 ],\n",
              "       [536.93964],\n",
              "       [503.3018 ],\n",
              "       [635.1362 ],\n",
              "       [515.36304],\n",
              "       [531.8255 ],\n",
              "       [518.9423 ],\n",
              "       [457.5731 ],\n",
              "       [505.9525 ],\n",
              "       [461.23828],\n",
              "       [591.8087 ],\n",
              "       [466.04147],\n",
              "       [427.31845],\n",
              "       [541.7055 ],\n",
              "       [493.926  ],\n",
              "       [679.74713],\n",
              "       [372.9164 ],\n",
              "       [551.7241 ],\n",
              "       [578.07385],\n",
              "       [434.10065],\n",
              "       [543.13794],\n",
              "       [586.108  ],\n",
              "       [579.3573 ],\n",
              "       [721.0177 ],\n",
              "       [432.87698],\n",
              "       [398.74005],\n",
              "       [314.17096],\n",
              "       [448.41467],\n",
              "       [388.23618],\n",
              "       [543.3173 ],\n",
              "       [522.8536 ],\n",
              "       [564.60187],\n",
              "       [448.14835],\n",
              "       [534.52637],\n",
              "       [381.93787],\n",
              "       [501.63898],\n",
              "       [637.19885],\n",
              "       [496.6767 ],\n",
              "       [568.4984 ],\n",
              "       [470.2383 ],\n",
              "       [273.4829 ],\n",
              "       [517.48157],\n",
              "       [621.49805],\n",
              "       [350.6662 ],\n",
              "       [450.57498],\n",
              "       [499.41077],\n",
              "       [543.0879 ],\n",
              "       [611.92804],\n",
              "       [388.31882],\n",
              "       [449.52924],\n",
              "       [482.5403 ],\n",
              "       [598.4169 ],\n",
              "       [499.50067],\n",
              "       [321.61642],\n",
              "       [555.25635],\n",
              "       [444.76517],\n",
              "       [529.15076],\n",
              "       [515.43066],\n",
              "       [609.744  ],\n",
              "       [417.09314],\n",
              "       [411.00836],\n",
              "       [459.781  ],\n",
              "       [350.22003],\n",
              "       [511.84106],\n",
              "       [709.0957 ],\n",
              "       [441.36157],\n",
              "       [510.29834],\n",
              "       [566.74524],\n",
              "       [463.69858],\n",
              "       [519.7082 ],\n",
              "       [564.30945],\n",
              "       [611.1875 ],\n",
              "       [570.12775],\n",
              "       [483.5866 ],\n",
              "       [501.40308],\n",
              "       [363.6176 ],\n",
              "       [586.18976],\n",
              "       [450.1606 ],\n",
              "       [400.50082],\n",
              "       [639.37177],\n",
              "       [483.5091 ],\n",
              "       [590.0347 ],\n",
              "       [648.59   ],\n",
              "       [412.52713],\n",
              "       [340.75314],\n",
              "       [423.58344],\n",
              "       [535.1565 ],\n",
              "       [433.5041 ],\n",
              "       [370.90604],\n",
              "       [499.12482],\n",
              "       [497.2427 ]], dtype=float32)"
            ]
          },
          "metadata": {
            "tags": []
          },
          "execution_count": 27
        }
      ]
    },
    {
      "cell_type": "code",
      "metadata": {
        "id": "sAG-a5M8PHd1"
      },
      "source": [
        "test_predictions = pd.Series(test_predictions.reshape(330,))\n"
      ],
      "execution_count": 28,
      "outputs": []
    },
    {
      "cell_type": "code",
      "metadata": {
        "id": "hXXvCgjxSIbQ",
        "colab": {
          "base_uri": "https://localhost:8080/"
        },
        "outputId": "25f1f38b-495b-44ac-ea69-e27e312c9572"
      },
      "source": [
        "test_predictions.shape"
      ],
      "execution_count": 29,
      "outputs": [
        {
          "output_type": "execute_result",
          "data": {
            "text/plain": [
              "(330,)"
            ]
          },
          "metadata": {
            "tags": []
          },
          "execution_count": 29
        }
      ]
    },
    {
      "cell_type": "markdown",
      "metadata": {
        "id": "zWrwBtxIHCGF"
      },
      "source": [
        "**Choosing an optimizer and loss**\n",
        "\n",
        "keep in mind what kind of problem you are trying to solve:\n",
        "\n",
        "# For a multi-class classification problem\n",
        "model.compile(optimizer= 'rmsprop', loss='categorical_crossentropy', metrics=['accuracy')\n",
        "\n",
        "# For a binary classification problem\n",
        "model.compile(optimizer= 'rmsprop', loss='binary_crossentropy', metrics=['accuracy')\n",
        "\n",
        "# For a mean squarred regression problem\n",
        "model.compile(optimizer= 'rmsprop', loss='mse')"
      ]
    },
    {
      "cell_type": "code",
      "metadata": {
        "id": "asBGbUuAOeB-"
      },
      "source": [
        "pred_df = pd.DataFrame(y_test, columns=['Test True Y'])"
      ],
      "execution_count": 30,
      "outputs": []
    },
    {
      "cell_type": "code",
      "metadata": {
        "id": "4KzW3GMeIE5U"
      },
      "source": [
        "pred_df = pd.concat([pred_df, test_predictions], axis=1)"
      ],
      "execution_count": 31,
      "outputs": []
    },
    {
      "cell_type": "code",
      "metadata": {
        "id": "hMtfCQPNqVCw"
      },
      "source": [
        "pred_df.columns = ['Test True Y', 'Model Predictions']"
      ],
      "execution_count": 33,
      "outputs": []
    },
    {
      "cell_type": "code",
      "metadata": {
        "colab": {
          "base_uri": "https://localhost:8080/",
          "height": 296
        },
        "id": "i8GJzNy2qlwY",
        "outputId": "9b8a4cb4-bf41-473d-e4ac-6944580effb3"
      },
      "source": [
        "sns.scatterplot(x= 'Test True Y',y = 'Model Predictions',data = pred_df)"
      ],
      "execution_count": 35,
      "outputs": [
        {
          "output_type": "execute_result",
          "data": {
            "text/plain": [
              "<matplotlib.axes._subplots.AxesSubplot at 0x7fb380b24190>"
            ]
          },
          "metadata": {
            "tags": []
          },
          "execution_count": 35
        },
        {
          "output_type": "display_data",
          "data": {
            "image/png": "[encoded data removed]",
            "text/plain": [
              "<Figure size 432x288 with 1 Axes>"
            ]
          },
          "metadata": {
            "tags": [],
            "needs_background": "light"
          }
        }
      ]
    },
    {
      "cell_type": "code",
      "metadata": {
        "id": "LWKAH1cBrFY1"
      },
      "source": [
        "from sklearn.metrics import mean_absolute_error, mean_squared_error"
      ],
      "execution_count": 36,
      "outputs": []
    },
    {
      "cell_type": "code",
      "metadata": {
        "colab": {
          "base_uri": "https://localhost:8080/"
        },
        "id": "zbZuBpcFr7e1",
        "outputId": "86be4531-9126-4aa5-c287-1869b44af641"
      },
      "source": [
        "mean_absolute_error(pred_df['Test True Y'], pred_df['Model Predictions'])"
      ],
      "execution_count": 39,
      "outputs": [
        {
          "output_type": "execute_result",
          "data": {
            "text/plain": [
              "3.94801392227453"
            ]
          },
          "metadata": {
            "tags": []
          },
          "execution_count": 39
        }
      ]
    },
    {
      "cell_type": "code",
      "metadata": {
        "colab": {
          "base_uri": "https://localhost:8080/",
          "height": 297
        },
        "id": "ET2orOLvsEXn",
        "outputId": "c64184a4-33cf-4eab-f256-e221aee41e3b"
      },
      "source": [
        "df.describe()"
      ],
      "execution_count": 40,
      "outputs": [
        {
          "output_type": "execute_result",
          "data": {
            "text/html": [
              "<div>\n",
              "<style scoped>\n",
              "    .dataframe tbody tr th:only-of-type {\n",
              "        vertical-align: middle;\n",
              "    }\n",
              "\n",
              "    .dataframe tbody tr th {\n",
              "        vertical-align: top;\n",
              "    }\n",
              "\n",
              "    .dataframe thead th {\n",
              "        text-align: right;\n",
              "    }\n",
              "</style>\n",
              "<table border=\"1\" class=\"dataframe\">\n",
              "  <thead>\n",
              "    <tr style=\"text-align: right;\">\n",
              "      <th></th>\n",
              "      <th>price</th>\n",
              "      <th>feature1</th>\n",
              "      <th>feature2</th>\n",
              "    </tr>\n",
              "  </thead>\n",
              "  <tbody>\n",
              "    <tr>\n",
              "      <th>count</th>\n",
              "      <td>1000.000000</td>\n",
              "      <td>1000.000000</td>\n",
              "      <td>1000.000000</td>\n",
              "    </tr>\n",
              "    <tr>\n",
              "      <th>mean</th>\n",
              "      <td>498.673029</td>\n",
              "      <td>1000.014171</td>\n",
              "      <td>999.979847</td>\n",
              "    </tr>\n",
              "    <tr>\n",
              "      <th>std</th>\n",
              "      <td>93.785431</td>\n",
              "      <td>0.974018</td>\n",
              "      <td>0.948330</td>\n",
              "    </tr>\n",
              "    <tr>\n",
              "      <th>min</th>\n",
              "      <td>223.346793</td>\n",
              "      <td>997.058347</td>\n",
              "      <td>996.995651</td>\n",
              "    </tr>\n",
              "    <tr>\n",
              "      <th>25%</th>\n",
              "      <td>433.025732</td>\n",
              "      <td>999.332068</td>\n",
              "      <td>999.316106</td>\n",
              "    </tr>\n",
              "    <tr>\n",
              "      <th>50%</th>\n",
              "      <td>502.382117</td>\n",
              "      <td>1000.009915</td>\n",
              "      <td>1000.002243</td>\n",
              "    </tr>\n",
              "    <tr>\n",
              "      <th>75%</th>\n",
              "      <td>564.921588</td>\n",
              "      <td>1000.637580</td>\n",
              "      <td>1000.645380</td>\n",
              "    </tr>\n",
              "    <tr>\n",
              "      <th>max</th>\n",
              "      <td>774.407854</td>\n",
              "      <td>1003.207934</td>\n",
              "      <td>1002.666308</td>\n",
              "    </tr>\n",
              "  </tbody>\n",
              "</table>\n",
              "</div>"
            ],
            "text/plain": [
              "             price     feature1     feature2\n",
              "count  1000.000000  1000.000000  1000.000000\n",
              "mean    498.673029  1000.014171   999.979847\n",
              "std      93.785431     0.974018     0.948330\n",
              "min     223.346793   997.058347   996.995651\n",
              "25%     433.025732   999.332068   999.316106\n",
              "50%     502.382117  1000.009915  1000.002243\n",
              "75%     564.921588  1000.637580  1000.645380\n",
              "max     774.407854  1003.207934  1002.666308"
            ]
          },
          "metadata": {
            "tags": []
          },
          "execution_count": 40
        }
      ]
    },
    {
      "cell_type": "code",
      "metadata": {
        "colab": {
          "base_uri": "https://localhost:8080/"
        },
        "id": "C9a0KBzpselT",
        "outputId": "0d190ed6-a084-4af4-f4ee-c589f4b15445"
      },
      "source": [
        "mean_squared_error(pred_df['Test True Y'], pred_df['Model Predictions'])"
      ],
      "execution_count": 41,
      "outputs": [
        {
          "output_type": "execute_result",
          "data": {
            "text/plain": [
              "24.282770179007215"
            ]
          },
          "metadata": {
            "tags": []
          },
          "execution_count": 41
        }
      ]
    },
    {
      "cell_type": "code",
      "metadata": {
        "id": "h-k4T7Qus72n"
      },
      "source": [
        "new_gem = [[998, 1000]]"
      ],
      "execution_count": 42,
      "outputs": []
    },
    {
      "cell_type": "code",
      "metadata": {
        "id": "naoCJo3itSY2"
      },
      "source": [
        "new_gem = scaler.transform(new_gem)"
      ],
      "execution_count": 44,
      "outputs": []
    },
    {
      "cell_type": "code",
      "metadata": {
        "colab": {
          "base_uri": "https://localhost:8080/"
        },
        "id": "3m01zkE5tYP8",
        "outputId": "40d263a1-1fa7-4ae8-a519-a15ddf725735"
      },
      "source": [
        "model.predict(new_gem)"
      ],
      "execution_count": 45,
      "outputs": [
        {
          "output_type": "execute_result",
          "data": {
            "text/plain": [
              "array([[419.81284]], dtype=float32)"
            ]
          },
          "metadata": {
            "tags": []
          },
          "execution_count": 45
        }
      ]
    },
    {
      "cell_type": "code",
      "metadata": {
        "id": "hF9TokQDtdZ0"
      },
      "source": [
        "#To save a complex model\n",
        "from tensorflow.keras.models import load_model"
      ],
      "execution_count": 46,
      "outputs": []
    },
    {
      "cell_type": "code",
      "metadata": {
        "id": "OJ7IUdwetzYd"
      },
      "source": [
        "model.save('my_gem_model.h5')"
      ],
      "execution_count": 47,
      "outputs": []
    },
    {
      "cell_type": "code",
      "metadata": {
        "id": "0ng4SyLZt49v"
      },
      "source": [
        "later_model = load_model('my_gem_model.h5')"
      ],
      "execution_count": 48,
      "outputs": []
    },
    {
      "cell_type": "code",
      "metadata": {
        "colab": {
          "base_uri": "https://localhost:8080/"
        },
        "id": "bPHWYreGuAXc",
        "outputId": "307f820e-a63f-489d-ea2b-82d75bdee6e7"
      },
      "source": [
        "later_model.predict(new_gem)"
      ],
      "execution_count": 49,
      "outputs": [
        {
          "output_type": "execute_result",
          "data": {
            "text/plain": [
              "array([[419.81284]], dtype=float32)"
            ]
          },
          "metadata": {
            "tags": []
          },
          "execution_count": 49
        }
      ]
    },
    {
      "cell_type": "code",
      "metadata": {
        "id": "ZiQNh5Q_uFEm"
      },
      "source": [
        ""
      ],
      "execution_count": null,
      "outputs": []
    }
  ]
}
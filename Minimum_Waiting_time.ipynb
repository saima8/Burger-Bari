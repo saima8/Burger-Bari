{
  "nbformat": 4,
  "nbformat_minor": 0,
  "metadata": {
    "colab": {
      "name": "Minimum Waiting time.ipynb",
      "provenance": [],
      "authorship_tag": "ABX9TyMe8k+w5E7xJbDeh3Q12wA9",
      "include_colab_link": true
    },
    "kernelspec": {
      "name": "python3",
      "display_name": "Python 3"
    },
    "language_info": {
      "name": "python"
    }
  },
  "cells": [
    {
      "cell_type": "markdown",
      "metadata": {
        "id": "view-in-github",
        "colab_type": "text"
      },
      "source": [
        "<a href=\"https://colab.research.google.com/github/saima8/Burger-Bari/blob/main/Minimum_Waiting_time.ipynb\" target=\"_parent\"><img src=\"https://colab.research.google.com/assets/colab-badge.svg\" alt=\"Open In Colab\"/></a>"
      ]
    },
    {
      "cell_type": "code",
      "metadata": {
        "id": "jVgVS6mvf8MR",
        "colab": {
          "base_uri": "https://localhost:8080/"
        },
        "outputId": "bf0efa54-c79f-4aa6-f2f0-0227f56e186d"
      },
      "source": [
        "def minimumWaitingTime(queries):\n",
        "    # Write your code here.\n",
        "    queries.sort()\n",
        "    totalWaitingTime = 0\n",
        "    \n",
        "    for idx, duration in enumerate(queries):\n",
        "      queriesLeft = len(queries) - (idx + 1)\n",
        "      totalWaitingTime += duration * queriesLeft\n",
        "    return totalWaitingTime\n",
        "\n",
        "minimumWaitingTime([3, 2, 1, 2, 6])"
      ],
      "execution_count": 1,
      "outputs": [
        {
          "output_type": "execute_result",
          "data": {
            "text/plain": [
              "17"
            ]
          },
          "metadata": {},
          "execution_count": 1
        }
      ]
    },
    {
      "cell_type": "markdown",
      "metadata": {
        "id": "juvmgB8DIP1L"
      },
      "source": [
        "Time Complexity: **O(nlog(n))**\n",
        "\n",
        "Space Complexity: **O(1)**"
      ]
    }
  ]
}